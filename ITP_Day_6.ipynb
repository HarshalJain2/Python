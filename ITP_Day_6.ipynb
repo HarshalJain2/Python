{
 "cells": [
  {
   "cell_type": "markdown",
   "metadata": {
    "id": "N6kMpBuhFmzg"
   },
   "source": [
    "**Let's begin with some hands-on practice exercises**"
   ]
  },
  {
   "cell_type": "markdown",
   "metadata": {
    "id": "0bH-RAcPFmzh"
   },
   "source": [
    "<table align=\"left\">\n",
    "    <tr>\n",
    "        <td width=\"6%\">\n",
    "            <img src=\"question_icon.png\">\n",
    "        </td>\n",
    "        <td>\n",
    "            <div align=\"left\", style=\"font-size:120%\">\n",
    "                <font color=\"#21618C\">\n",
    "                    <b>1. Write a program to print the following pattern (use for loop)</b>\n",
    "                    <br>\n",
    "                 </font>\n",
    "            </div>\n",
    "        </td>\n",
    "    </tr>\n",
    "</table>\n"
   ]
  },
  {
   "cell_type": "markdown",
   "metadata": {
    "id": "QpnJt-94Fmzi"
   },
   "source": [
    "                                            A  \n",
    "                                            B C  \n",
    "                                            D E F  \n",
    "                                            G H I J  \n",
    "                                            K L M N O  \n",
    "                                            P Q R S T U  "
   ]
  },
  {
   "cell_type": "code",
   "execution_count": 25,
   "metadata": {
    "id": "3z8CEudeFmzi"
   },
   "outputs": [
    {
     "name": "stdout",
     "output_type": "stream",
     "text": [
      "\n",
      "A "
     ]
    },
    {
     "ename": "NameError",
     "evalue": "name 'c' is not defined",
     "output_type": "error",
     "traceback": [
      "\u001b[1;31m---------------------------------------------------------------------------\u001b[0m",
      "\u001b[1;31mNameError\u001b[0m                                 Traceback (most recent call last)",
      "\u001b[1;32m~\\AppData\\Local\\Temp\\ipykernel_24828\\2381520967.py\u001b[0m in \u001b[0;36m<module>\u001b[1;34m\u001b[0m\n\u001b[0;32m      4\u001b[0m     \u001b[1;32mfor\u001b[0m \u001b[0mj\u001b[0m \u001b[1;32min\u001b[0m \u001b[0mrange\u001b[0m\u001b[1;33m(\u001b[0m\u001b[1;36m0\u001b[0m\u001b[1;33m,\u001b[0m\u001b[0mz\u001b[0m\u001b[1;33m)\u001b[0m\u001b[1;33m:\u001b[0m\u001b[1;33m\u001b[0m\u001b[1;33m\u001b[0m\u001b[0m\n\u001b[0;32m      5\u001b[0m         \u001b[0mprint\u001b[0m\u001b[1;33m(\u001b[0m\u001b[0mchr\u001b[0m\u001b[1;33m(\u001b[0m\u001b[0mcval\u001b[0m\u001b[1;33m)\u001b[0m\u001b[1;33m,\u001b[0m \u001b[0mend\u001b[0m\u001b[1;33m=\u001b[0m\u001b[1;34m\" \"\u001b[0m\u001b[1;33m)\u001b[0m\u001b[1;33m\u001b[0m\u001b[1;33m\u001b[0m\u001b[0m\n\u001b[1;32m----> 6\u001b[1;33m         \u001b[0mcval\u001b[0m\u001b[1;33m=\u001b[0m\u001b[0mc\u001b[0m\u001b[1;33m+\u001b[0m\u001b[1;36m1\u001b[0m\u001b[1;33m\u001b[0m\u001b[1;33m\u001b[0m\u001b[0m\n\u001b[0m\u001b[0;32m      7\u001b[0m     \u001b[0mprint\u001b[0m\u001b[1;33m(\u001b[0m\u001b[1;33m)\u001b[0m\u001b[1;33m\u001b[0m\u001b[1;33m\u001b[0m\u001b[0m\n",
      "\u001b[1;31mNameError\u001b[0m: name 'c' is not defined"
     ]
    }
   ],
   "source": [
    "cval = ord('A')\n",
    "\n",
    "for z in range(0,7):\n",
    "    for j in range(0,z):\n",
    "        print(chr(cval), end=\" \")\n",
    "        cval=c+1\n",
    "    print()"
   ]
  },
  {
   "cell_type": "markdown",
   "metadata": {
    "id": "EFpBkhNmFmzj"
   },
   "source": [
    "<table align=\"left\">\n",
    "    <tr>\n",
    "        <td width=\"6%\">\n",
    "            <img src=\"question_icon.png\">\n",
    "        </td>\n",
    "        <td>\n",
    "            <div align=\"left\", style=\"font-size:120%\">\n",
    "                <font color=\"#21618C\">\n",
    "                    <b>2. Write a program to print tables from 2 to a user provided range (use for loop)</b>\n",
    "                 </font>\n",
    "            </div>\n",
    "        </td>\n",
    "    </tr>\n",
    "</table>"
   ]
  },
  {
   "cell_type": "code",
   "execution_count": 26,
   "metadata": {
    "id": "rc2RS6c0Fmzk"
   },
   "outputs": [
    {
     "name": "stdout",
     "output_type": "stream",
     "text": [
      "enter the higher range: 3\n",
      "2x1 = 2\n",
      "2x2 = 4\n",
      "2x3 = 6\n",
      "2x4 = 8\n",
      "2x5 = 10\n",
      "2x6 = 12\n",
      "2x7 = 14\n",
      "2x8 = 16\n",
      "2x9 = 18\n",
      "2x10 = 20\n",
      "-------------------------\n",
      "3x1 = 3\n",
      "3x2 = 6\n",
      "3x3 = 9\n",
      "3x4 = 12\n",
      "3x5 = 15\n",
      "3x6 = 18\n",
      "3x7 = 21\n",
      "3x8 = 24\n",
      "3x9 = 27\n",
      "3x10 = 30\n",
      "-------------------------\n"
     ]
    }
   ],
   "source": [
    "lr=2\n",
    "hr=int(input('enter the higher range: '))\n",
    "for i in range (2,hr+1):\n",
    "    for j in  range(1,11):\n",
    "        print(f'{i}x{j} = {i*j}')\n",
    "    print('-'*25)"
   ]
  },
  {
   "cell_type": "markdown",
   "metadata": {
    "id": "5UToywzRFmzk"
   },
   "source": [
    "<table align=\"left\">\n",
    "    <tr>\n",
    "        <td width=\"6%\">\n",
    "            <img src=\"question_icon.png\">\n",
    "        </td>\n",
    "        <td>\n",
    "            <div align=\"left\", style=\"font-size:120%\">\n",
    "                <font color=\"#21618C\">\n",
    "                    <b>3. Consider the given two tuples. Divide corresponding elemets of two tuples and print the result as tuple (use zip())</b>\n",
    "                 </font>\n",
    "            </div>\n",
    "        </td>\n",
    "    </tr>\n",
    "</table>"
   ]
  },
  {
   "cell_type": "markdown",
   "metadata": {
    "id": "vZ-a6sxMFmzl"
   },
   "source": [
    "   **The original tuple 1 : (10, 4, 6, 9)**\n",
    "\n",
    "   **The original tuple 2 : (5, 2, 3, 3)**\n",
    "\n",
    "   **Output: (2, 2, 2, 3)**\n"
   ]
  },
  {
   "cell_type": "code",
   "execution_count": 27,
   "metadata": {
    "id": "HXGwADq8Fmzl"
   },
   "outputs": [
    {
     "data": {
      "text/plain": [
       "(2, 2, 2, 3)"
      ]
     },
     "execution_count": 27,
     "metadata": {},
     "output_type": "execute_result"
    }
   ],
   "source": [
    "t1 = (10, 4, 6, 9)\n",
    "t2 = (5, 2, 3, 3)\n",
    "    \n",
    "tuple(int(elem_1 / elem_2) for elem_1, elem_2 in zip(t1, t2))"
   ]
  },
  {
   "cell_type": "markdown",
   "metadata": {
    "id": "wacq0SugFmzm"
   },
   "source": [
    "<table align=\"left\">\n",
    "    <tr>\n",
    "        <td width=\"6%\">\n",
    "            <img src=\"question_icon.png\">\n",
    "        </td>\n",
    "        <td>\n",
    "            <div align=\"left\", style=\"font-size:120%\">\n",
    "                <font color=\"#21618C\">\n",
    "                    <b>4. Use list comprehension to find words whose length is less than 5 from the given multi-dimensional list</b>\n",
    "                    <br>\n",
    "                </font>\n",
    "            </div>\n",
    "        </td>\n",
    "    </tr>\n",
    "</table>"
   ]
  },
  {
   "cell_type": "markdown",
   "metadata": {
    "id": "DNF3xNRYFmzm"
   },
   "source": [
    "**astro = [['sky', 'sun', 'moon'], ['star', 'Jupiter', 'mars'], ['Jupiter', 'Neptune', 'Pluto']] **\n"
   ]
  },
  {
   "cell_type": "code",
   "execution_count": 28,
   "metadata": {
    "id": "wZ-bRGJAFmzm"
   },
   "outputs": [
    {
     "data": {
      "text/plain": [
       "['sky', 'sun', 'moon', 'star', 'mars']"
      ]
     },
     "execution_count": 28,
     "metadata": {},
     "output_type": "execute_result"
    }
   ],
   "source": [
    "astro = [['sky', 'sun', 'moon'], ['star', 'Jupiter', 'mars'], ['Jupiter', 'Neptune', 'Pluto']]\n",
    "\n",
    "[j for i in astro  for j in i if len(j)<5]"
   ]
  },
  {
   "cell_type": "markdown",
   "metadata": {
    "id": "j-mA-9vwFmzm"
   },
   "source": [
    "<table align=\"left\">\n",
    "    <tr>\n",
    "        <td width=\"6%\">\n",
    "            <img src=\"question_icon.png\">\n",
    "        </td>\n",
    "        <td>\n",
    "            <div align=\"left\", style=\"font-size:120%\">\n",
    "                <font color=\"#21618C\">\n",
    "                    <b>5. Write a program to append a dictionary to a tuple</b>\n",
    "                 </font>\n",
    "            </div>\n",
    "        </td>\n",
    "    </tr>\n",
    "</table>"
   ]
  },
  {
   "cell_type": "markdown",
   "metadata": {
    "id": "sNqFToieFmzn"
   },
   "source": [
    "**The original tuple : (4, 5, 6)**\n",
    "\n",
    "**Tuple after addition of dictionary : (4, 5, 6, {'gfg': 1, 'is': 2, 'best': 3})**"
   ]
  },
  {
   "cell_type": "code",
   "execution_count": 29,
   "metadata": {
    "id": "t-rJ9mvqFmzn"
   },
   "outputs": [
    {
     "data": {
      "text/plain": [
       "(4, 5, 6, {'gfg': 1, 'is': 2, 'best': 3})"
      ]
     },
     "execution_count": 29,
     "metadata": {},
     "output_type": "execute_result"
    }
   ],
   "source": [
    "t_1= (4, 5, 6)\n",
    "list1 = list(t_1)\n",
    "di1 = {'gfg': 1, 'is': 2, 'best': 3}\n",
    "list1.append(di1)\n",
    "tuple(list1)"
   ]
  },
  {
   "cell_type": "markdown",
   "metadata": {
    "id": "qof16GHPFmzn"
   },
   "source": [
    "<table align=\"left\">\n",
    "    <tr>\n",
    "        <td width=\"6%\">\n",
    "            <img src=\"question_icon.png\">\n",
    "        </td>\n",
    "        <td>\n",
    "            <div align=\"left\", style=\"font-size:120%\">\n",
    "                <font color=\"#21618C\">\n",
    "                    <b>6. Write a program to check whether two strings are anagram or not (take input from user)</b>\n",
    "                 </font>\n",
    "            </div>\n",
    "        </td>\n",
    "    </tr>\n",
    "</table>"
   ]
  },
  {
   "cell_type": "markdown",
   "metadata": {
    "id": "mGO40kBWFmzn"
   },
   "source": [
    "**Hint: An anagram of a string is another string that contains same characters, only the order of characters can be different.**"
   ]
  },
  {
   "cell_type": "code",
   "execution_count": 30,
   "metadata": {
    "id": "XTshRzkYFmzn"
   },
   "outputs": [
    {
     "name": "stdout",
     "output_type": "stream",
     "text": [
      "enter the string1: randod\n",
      "enter the string2: dominer\n",
      "The strings aren't anagrams.\n"
     ]
    }
   ],
   "source": [
    "s1 =input('enter the string1: ')\n",
    "s2 =input('enter the string2: ')\n",
    "\n",
    "def check(s1, s2):\n",
    "    if(sorted(s1)== sorted(s2)):\n",
    "        print(\"The strings are anagrams.\")\n",
    "    else:\n",
    "        print(\"The strings aren't anagrams.\")        \n",
    "check(s1, s2)"
   ]
  },
  {
   "cell_type": "markdown",
   "metadata": {
    "id": "AEnVgvj_Fmzn"
   },
   "source": [
    "<table align=\"left\">\n",
    "    <tr>\n",
    "        <td width=\"6%\">\n",
    "            <img src=\"question_icon.png\">\n",
    "        </td>\n",
    "        <td>\n",
    "            <div align=\"left\", style=\"font-size:120%\">\n",
    "                <font color=\"#21618C\">\n",
    "                    <b>7. Write a program to remove space from keys of the given dictionary (use for loop)  </b>\n",
    "                 </font>\n",
    "            </div>\n",
    "        </td>\n",
    "    </tr>\n",
    "</table>"
   ]
  },
  {
   "cell_type": "markdown",
   "metadata": {
    "id": "z8Pujo9EFmzo"
   },
   "source": [
    "**fruity = {'Fruits 01' : 'Apple', 'Fruits 02' : 'Orange', \n",
    "                'Fruits 0 3 ': 'Grapes'}**\n",
    "\n",
    "**(Output) New dictionary :   {'Fruits01': 'Apple', 'Fruits02': 'Orange', 'Fruits03': 'Grapes'}**\n"
   ]
  },
  {
   "cell_type": "code",
   "execution_count": 31,
   "metadata": {
    "id": "1pMYTEfPFmzo"
   },
   "outputs": [
    {
     "data": {
      "text/plain": [
       "{'Fruits01': 'Apple', 'Fruits02': 'Orange', 'Fruits03': 'Grapes'}"
      ]
     },
     "execution_count": 31,
     "metadata": {},
     "output_type": "execute_result"
    }
   ],
   "source": [
    "fruity = {'Fruits 01':'Apple','Fruits 02':'Orange','Fruits 0 3':'Grapes'}\n",
    "{    fruit.replace(' ',''):   i for fruit,       i in fruity.items()}\n"
   ]
  },
  {
   "cell_type": "markdown",
   "metadata": {
    "id": "Pd-8NCwoFmzo"
   },
   "source": [
    "<table align=\"left\">\n",
    "    <tr>\n",
    "        <td width=\"6%\">\n",
    "            <img src=\"question_icon.png\">\n",
    "        </td>\n",
    "        <td>\n",
    "            <div align=\"left\", style=\"font-size:120%\">\n",
    "                <font color=\"#21618C\">\n",
    "                    <b>8. Write a program to transpose a matrix using list comprehension</b>\n",
    "                 </font>\n",
    "            </div>\n",
    "        </td>\n",
    "    </tr>\n",
    "</table>"
   ]
  },
  {
   "cell_type": "markdown",
   "metadata": {
    "id": "FSlrAPSwFmzo"
   },
   "source": [
    "**matrix=[[1,2],[3,4],[5,6],[7,8]]**<br>\n",
    "**Output: [[1, 3, 5, 7], [2, 4, 6, 8]]**"
   ]
  },
  {
   "cell_type": "code",
   "execution_count": 32,
   "metadata": {
    "id": "BNGRT7DgFmzo"
   },
   "outputs": [
    {
     "data": {
      "text/plain": [
       "[[1, 3, 5, 7], [2, 4, 6, 8]]"
      ]
     },
     "execution_count": 32,
     "metadata": {},
     "output_type": "execute_result"
    }
   ],
   "source": [
    "l=[[1,2],[3,4],[5,6],[7,8]]\n",
    "[[r[i] for r in l] for i in range (2)]"
   ]
  },
  {
   "cell_type": "markdown",
   "metadata": {
    "id": "KTqEtlMxFmzo"
   },
   "source": [
    "<table align=\"left\">\n",
    "    <tr>\n",
    "        <td width=\"6%\">\n",
    "            <img src=\"question_icon.png\">\n",
    "        </td>\n",
    "        <td>\n",
    "            <div align=\"left\", style=\"font-size:120%\">\n",
    "                <font color=\"#21618C\">\n",
    "                    <b>9. Write a program to add the cubes of first 5 positive integers (use while loop)</b>\n",
    "                 </font>\n",
    "            </div>\n",
    "        </td>\n",
    "    </tr>\n",
    "</table>"
   ]
  },
  {
   "cell_type": "code",
   "execution_count": 33,
   "metadata": {
    "id": "XmRj6u9sFmzp"
   },
   "outputs": [
    {
     "name": "stdout",
     "output_type": "stream",
     "text": [
      "225\n"
     ]
    }
   ],
   "source": [
    "sum_cube= 0\n",
    "i = 1\n",
    "while n < 6:\n",
    "    for i in range(1,6):\n",
    "        sum_cube = sum_cube + i**3\n",
    "    print(sum_cube)\n",
    "    break"
   ]
  },
  {
   "cell_type": "markdown",
   "metadata": {
    "id": "-F9zWKFLFmzp"
   },
   "source": [
    "<table align=\"left\">\n",
    "    <tr>\n",
    "        <td width=\"6%\">\n",
    "            <img src=\"question_icon.png\">\n",
    "        </td>\n",
    "        <td>\n",
    "            <div align=\"left\", style=\"font-size:120%\">\n",
    "                <font color=\"#21618C\">\n",
    "                    <b>10. Write a program to create a 5x3 matrix with values in each row as 1,2, and 3 (use list comprehension)</b>\n",
    "                    <br>\n",
    "                 </font>\n",
    "            </div>\n",
    "        </td>\n",
    "    </tr>\n",
    "</table>"
   ]
  },
  {
   "cell_type": "code",
   "execution_count": 34,
   "metadata": {
    "id": "gYEbHqqQFmzp"
   },
   "outputs": [
    {
     "data": {
      "text/plain": [
       "[[1, 2, 3], [1, 2, 3], [1, 2, 3], [1, 2, 3], [1, 2, 3]]"
      ]
     },
     "execution_count": 34,
     "metadata": {},
     "output_type": "execute_result"
    }
   ],
   "source": [
    "[[j for j in range(1,4)] for i in range(5)]"
   ]
  }
 ],
 "metadata": {
  "colab": {
   "collapsed_sections": [],
   "name": "ITP - Take Home (Day 3) - Questions (1).ipynb",
   "provenance": []
  },
  "kernelspec": {
   "display_name": "Python 3 (ipykernel)",
   "language": "python",
   "name": "python3"
  },
  "language_info": {
   "codemirror_mode": {
    "name": "ipython",
    "version": 3
   },
   "file_extension": ".py",
   "mimetype": "text/x-python",
   "name": "python",
   "nbconvert_exporter": "python",
   "pygments_lexer": "ipython3",
   "version": "3.9.13"
  }
 },
 "nbformat": 4,
 "nbformat_minor": 1
}
