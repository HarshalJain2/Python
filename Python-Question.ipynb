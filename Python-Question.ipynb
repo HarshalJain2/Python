{
 "cells": [
  {
   "cell_type": "code",
   "execution_count": null,
   "id": "fbd4242d",
   "metadata": {},
   "outputs": [],
   "source": [
    "#1.\n",
    "# Given a string \"Great10YearsLearning!\", reverse the given strings but the special \n",
    "# characters and numbers should be in it's original position rest all should be reversed\n",
    "\n",
    "\n",
    "## Input - reverseAlphaStrings(\"Great10Learning!\")\n",
    "## Output - 'gninr10aeLtaerG!'"
   ]
  },
  {
   "cell_type": "code",
   "execution_count": 15,
   "id": "c4dd5da4",
   "metadata": {},
   "outputs": [
    {
     "data": {
      "text/plain": [
       "'gninr10aeLsraeYtaerG!'"
      ]
     },
     "execution_count": 15,
     "metadata": {},
     "output_type": "execute_result"
    }
   ],
   "source": [
    "l='Great10YearsLearning!'\n",
    "alpha=[]\n",
    "no_alpha=[]\n",
    "no_index=[]\n",
    "for i in enumerate(l):\n",
    "    if str.isalpha(i[1]):\n",
    "        alpha.append(i[1])\n",
    "\n",
    "    else:\n",
    "        no_index.append(i[0])\n",
    "        no_alpha.append(i[1])\n",
    "a=alpha[::-1]        \n",
    "for i in range(len(no_alpha)):\n",
    "    a.insert(no_index[i],no_alpha[i])\n",
    "''.join(a)    "
   ]
  },
  {
   "cell_type": "code",
   "execution_count": 27,
   "id": "c2818f2a",
   "metadata": {},
   "outputs": [
    {
     "data": {
      "text/plain": [
       "'gninr10aeLsraeYtaerG!'"
      ]
     },
     "execution_count": 27,
     "metadata": {},
     "output_type": "execute_result"
    }
   ],
   "source": [
    "a=[]\n",
    "n=[]\n",
    "n_i=[]\n",
    "for num, i in enumerate(l):\n",
    "    if str.isalpha(i):\n",
    "        a.append(i)\n",
    "    else:\n",
    "        n.append(i)\n",
    "        n_i.append(num)\n",
    "a=a[::-1]\n",
    "for i in range (len(n_i)):\n",
    "    a.insert(n_i[i],n[i])\n",
    "''.join(a)    "
   ]
  },
  {
   "cell_type": "code",
   "execution_count": null,
   "id": "f08b651a",
   "metadata": {},
   "outputs": [],
   "source": []
  },
  {
   "cell_type": "code",
   "execution_count": 78,
   "id": "035cacef",
   "metadata": {},
   "outputs": [
    {
     "name": "stdout",
     "output_type": "stream",
     "text": [
      "['G', 'r', 'e', 'a', 't', 'Y', 'e', 'a', 'r', 's', 'L', 'e', 'a', 'r', 'n', 'i', 'n', 'g']\n",
      "['1', '0', '!']\n",
      "[5, 6, 20]\n"
     ]
    },
    {
     "data": {
      "text/plain": [
       "'gninr10aeLsraeYtaerG!'"
      ]
     },
     "execution_count": 78,
     "metadata": {},
     "output_type": "execute_result"
    }
   ],
   "source": [
    "s = \"Great10YearsLearning!\"\n",
    "\n",
    "alpha = []\n",
    "no_alpha = []\n",
    "no_index =[]\n",
    "\n",
    "for i in enumerate(s):\n",
    "    \n",
    "    if str.isalpha(i[1]):\n",
    "        alpha.append(i[1])\n",
    "    else:\n",
    "        no_index.append(i[0])\n",
    "        no_alpha.append(i[1])\n",
    "print(alpha)\n",
    "print(no_alpha)\n",
    "print(no_index)\n",
    "a = alpha[ : : -1]\n",
    "\n",
    "for i in range(len(no_alpha)):\n",
    "    a.insert(no_index[i], no_alpha[i])\n",
    "''.join(a)    "
   ]
  },
  {
   "cell_type": "code",
   "execution_count": 58,
   "id": "c29d8f67",
   "metadata": {},
   "outputs": [
    {
     "name": "stdout",
     "output_type": "stream",
     "text": [
      "Return type: <class 'enumerate'>\n",
      "[(0, 'eat'), (1, 'sleep'), (2, 'repeat')]\n",
      "[(2, 'g'), (3, 'e'), (4, 'e'), (5, 'k')]\n"
     ]
    }
   ],
   "source": [
    "# WHAt enumerate do \n",
    "# Python program to illustrate\n",
    "# enumerate function\n",
    "l1 = [\"eat\", \"sleep\", \"repeat\"]\n",
    "s1 = \"geek\"\n",
    "\n",
    "# creating enumerate objects\n",
    "obj1 = enumerate(l1)\n",
    "obj2 = enumerate(s1)\n",
    "\n",
    "print (\"Return type:\", type(obj1))\n",
    "print (list(enumerate(l1)))\n",
    "\n",
    "# changing start index to 2 from 0\n",
    "print (list(enumerate(s1,2)))\n"
   ]
  },
  {
   "cell_type": "code",
   "execution_count": null,
   "id": "ffc5a906",
   "metadata": {},
   "outputs": [],
   "source": [
    "#2\n",
    "# Someone has attempted to censor my strings by replacing every vowel with a *, l*k* th*s. Luckily, I've been able to find the vowels that were removed.\n",
    "\n",
    "# Given a censored string and a string of the censored vowels, return the original uncensored string.\n",
    "\n",
    "# Example\n",
    "# uncensor(\"Wh*r* d*d my v*w*ls g*?\", \"eeioeo\") ➞ \"Where did my vowels go?\"\n",
    "\n",
    "# uncensor(\"abcd\", \"\") ➞ \"abcd\"\n",
    "\n",
    "# uncensor(\"*PP*RC*S*\", \"UEAE\") ➞ \"UPPERCASE\""
   ]
  },
  {
   "cell_type": "code",
   "execution_count": 22,
   "id": "e4d61b53",
   "metadata": {},
   "outputs": [
    {
     "name": "stdout",
     "output_type": "stream",
     "text": [
      "Enter a message: wh*r* d*d my m*b*l*\n",
      "Enter: eeioie\n",
      "where did my mobile\n"
     ]
    }
   ],
   "source": [
    "a=input('Enter a message: ')\n",
    "b=input('Enter: ')\n",
    "\n",
    "new_a = \"\"\n",
    "b_index = 0\n",
    "\n",
    "for i in a:\n",
    "    if i == \"*\":\n",
    "        new_a += b[b_index]\n",
    "        b_index += 1\n",
    "    else:\n",
    "        new_a += i\n",
    "\n",
    "print(new_a)\n"
   ]
  },
  {
   "cell_type": "code",
   "execution_count": 20,
   "id": "5ac4da25",
   "metadata": {},
   "outputs": [
    {
     "name": "stdout",
     "output_type": "stream",
     "text": [
      "Enter a message: wh*r* d*d my m*b*l* p*t\n",
      "Enter: eeioieu\n"
     ]
    },
    {
     "data": {
      "text/plain": [
       "'whuru dud my mubulu put'"
      ]
     },
     "execution_count": 20,
     "metadata": {},
     "output_type": "execute_result"
    }
   ],
   "source": [
    "a=input('Enter a message: ')\n",
    "b=input('Enter: ')\n"
   ]
  },
  {
   "cell_type": "code",
   "execution_count": 33,
   "id": "e0d2f253",
   "metadata": {},
   "outputs": [],
   "source": [
    "def UNCENSOR(censored_string,vowels):\n",
    "    uncensored_string=''\n",
    "    vowel_index=0\n",
    "    \n",
    "    for char in censored_string:\n",
    "        if char=='*':\n",
    "            uncensored_string+=vowels[vowel_index]\n",
    "            vowel_index+=1\n",
    "        else:\n",
    "            uncensored_string+=char\n",
    "    return uncensored_string        "
   ]
  },
  {
   "cell_type": "code",
   "execution_count": 34,
   "id": "1edb4824",
   "metadata": {},
   "outputs": [
    {
     "data": {
      "text/plain": [
       "'UPPERCASE'"
      ]
     },
     "execution_count": 34,
     "metadata": {},
     "output_type": "execute_result"
    }
   ],
   "source": [
    "UNCENSOR(\"*PP*RC*S*\", \"UEAE\")"
   ]
  },
  {
   "cell_type": "code",
   "execution_count": 1,
   "id": "8ec45a43",
   "metadata": {},
   "outputs": [
    {
     "name": "stdout",
     "output_type": "stream",
     "text": [
      "\"*PP*RC*S*\", \"UEAE\"\n",
      "\"*PP*RC*S*\"\n",
      " \"UEAE\"\n"
     ]
    },
    {
     "data": {
      "text/plain": [
       "'UPPERCASE'"
      ]
     },
     "execution_count": 1,
     "metadata": {},
     "output_type": "execute_result"
    }
   ],
   "source": [
    "n=2\n",
    "s3=[]\n",
    "s1,s2=input().split(',')\n",
    "for _ in s1:\n",
    "    if _ == '*':\n",
    "        s3.append(s2[n])\n",
    "        n+=1\n",
    "    else:\n",
    "        s3.append(_)\n",
    "''.join(s3).strip('\"\"')        "
   ]
  },
  {
   "cell_type": "code",
   "execution_count": 138,
   "id": "e6d7df0e",
   "metadata": {},
   "outputs": [
    {
     "name": "stdout",
     "output_type": "stream",
     "text": [
      "Enter a Number: 6\n"
     ]
    },
    {
     "data": {
      "text/plain": [
       "720"
      ]
     },
     "execution_count": 138,
     "metadata": {},
     "output_type": "execute_result"
    }
   ],
   "source": [
    "# 3.\n",
    "# Factorial of factorials\n",
    "## Input 4 \n",
    "## Expected output - 288   "
   ]
  },
  {
   "cell_type": "code",
   "execution_count": 53,
   "id": "79fe6ace",
   "metadata": {},
   "outputs": [
    {
     "name": "stdout",
     "output_type": "stream",
     "text": [
      "Enter a Number: 5\n"
     ]
    },
    {
     "data": {
      "text/plain": [
       "120"
      ]
     },
     "execution_count": 53,
     "metadata": {},
     "output_type": "execute_result"
    }
   ],
   "source": [
    "number=int(input('Enter a Number: '))\n",
    "fact=1\n",
    "for i in range(1,number+1):\n",
    "    fact*=i\n",
    "fact    "
   ]
  },
  {
   "cell_type": "code",
   "execution_count": 60,
   "id": "f5589c23",
   "metadata": {
    "scrolled": true
   },
   "outputs": [
    {
     "name": "stdout",
     "output_type": "stream",
     "text": [
      "Enter a Number: 4\n"
     ]
    },
    {
     "data": {
      "text/plain": [
       "288"
      ]
     },
     "execution_count": 60,
     "metadata": {},
     "output_type": "execute_result"
    }
   ],
   "source": [
    "def fact_fact(number):\n",
    "    number=int(input('Enter a Number: ')) \n",
    "    fact_fact=1\n",
    "    for i in range(1,number+1):\n",
    "        fact=1\n",
    "        for j in range(1,i+1):\n",
    "            fact*=j\n",
    "        fact_fact*=fact \n",
    "    return fact_fact \n",
    "fact_fact(number) "
   ]
  },
  {
   "cell_type": "code",
   "execution_count": 146,
   "id": "d586ed24",
   "metadata": {},
   "outputs": [
    {
     "name": "stdout",
     "output_type": "stream",
     "text": [
      "Enter a number: 371\n",
      "Number is Armstrong Number\n"
     ]
    }
   ],
   "source": [
    "# 3**3 + 7**3 + 1**3 = 371 - armstrong number\n",
    "num=input('Enter a number: ')\n",
    "sum1=0\n",
    "for i in num:\n",
    "    sum1+=int(i)**len(num)\n",
    "if int(num)==sum1:\n",
    "    print('Number is Armstrong Number')\n",
    "else:\n",
    "    print('Number is not Armstrong Number')"
   ]
  },
  {
   "cell_type": "code",
   "execution_count": 159,
   "id": "08c178b5",
   "metadata": {
    "scrolled": true
   },
   "outputs": [
    {
     "name": "stdout",
     "output_type": "stream",
     "text": [
      "Enter a Number: 10\n"
     ]
    },
    {
     "data": {
      "text/plain": [
       "[0, 1, 1, 2, 3, 5, 8, 13, 21, 34]"
      ]
     },
     "execution_count": 159,
     "metadata": {},
     "output_type": "execute_result"
    }
   ],
   "source": [
    "fibonaci=[0,1]\n",
    "num=int(input('Enter a Number: '))\n",
    "for i in range(2,num):\n",
    "    fibonaci.append(fibonaci[i-1]+fibonaci[i-2])\n",
    "fibonaci    "
   ]
  },
  {
   "cell_type": "code",
   "execution_count": 249,
   "id": "dda2f13b",
   "metadata": {},
   "outputs": [
    {
     "name": "stdout",
     "output_type": "stream",
     "text": [
      "Enter a Number: 7\n"
     ]
    },
    {
     "data": {
      "text/plain": [
       "'Prime'"
      ]
     },
     "execution_count": 249,
     "metadata": {},
     "output_type": "execute_result"
    }
   ],
   "source": [
    "num=int(input('Enter a Number: '))\n",
    "def prime_no(num):    \n",
    "    if num<=2:\n",
    "        return 'Not Prime'\n",
    "    for i in range(2,num):\n",
    "        if num%i==0:\n",
    "            return 'Not Prime'\n",
    "    return 'Prime'\n",
    "prime_no(num)"
   ]
  },
  {
   "cell_type": "code",
   "execution_count": 257,
   "id": "c4b6f17f",
   "metadata": {},
   "outputs": [
    {
     "name": "stdout",
     "output_type": "stream",
     "text": [
      "Enter a Number: 361\n",
      "Not Prime\n"
     ]
    }
   ],
   "source": [
    "num=int(input('Enter a Number: '))    \n",
    "if num<=2:\n",
    "    print('Not Prime')\n",
    "for i in range(2,num):\n",
    "    if num%i==0:\n",
    "        print('Not Prime')\n",
    "        break\n",
    "else:\n",
    "    print('Prime')"
   ]
  },
  {
   "cell_type": "code",
   "execution_count": 238,
   "id": "c91b95e1",
   "metadata": {},
   "outputs": [],
   "source": [
    "def prime_no(num):\n",
    "    if num==0 or num==1 or num==2:\n",
    "        return False\n",
    "    for i in range(2,num):\n",
    "        if num%i==0:\n",
    "            return False\n",
    "    return True "
   ]
  },
  {
   "cell_type": "code",
   "execution_count": 88,
   "id": "171a90dd",
   "metadata": {},
   "outputs": [],
   "source": [
    "def facts(x):\n",
    "    fact=1\n",
    "    z=1\n",
    "    for i in range(1,x+1):\n",
    "        fact=fact*i\n",
    "        z=z*fact\n",
    "    return(z)    "
   ]
  },
  {
   "cell_type": "code",
   "execution_count": 89,
   "id": "ad9fdc06",
   "metadata": {},
   "outputs": [
    {
     "data": {
      "text/plain": [
       "288"
      ]
     },
     "execution_count": 89,
     "metadata": {},
     "output_type": "execute_result"
    }
   ],
   "source": [
    "facts(4)"
   ]
  },
  {
   "cell_type": "code",
   "execution_count": 2,
   "id": "4af48f36",
   "metadata": {},
   "outputs": [],
   "source": [
    "# 4.\n",
    "# Fibonacci series using recursive function\n"
   ]
  },
  {
   "cell_type": "code",
   "execution_count": 108,
   "id": "2784426e",
   "metadata": {},
   "outputs": [
    {
     "data": {
      "text/plain": [
       "[0, 1, 1, 2, 3, 5, 8, 13, 21, 34]"
      ]
     },
     "execution_count": 108,
     "metadata": {},
     "output_type": "execute_result"
    }
   ],
   "source": [
    "def fibonacci(x):\n",
    "    if x<=1:\n",
    "        return x\n",
    "    else:\n",
    "        return fibonacci(x-1)+fibonacci(x-2)\n",
    "[fibonacci(i) for i in range(10)]    "
   ]
  },
  {
   "cell_type": "code",
   "execution_count": 55,
   "id": "22b24235",
   "metadata": {},
   "outputs": [],
   "source": [
    "def fib(num):\n",
    "    num=int(input('Enter a Number: '))\n",
    "    f=[0,1]\n",
    "    for i in range(2,num):\n",
    "        f.append(f[i-1]+f[i-2])\n",
    "    return f    \n",
    "fib(num)"
   ]
  },
  {
   "cell_type": "code",
   "execution_count": 182,
   "id": "8156825a",
   "metadata": {},
   "outputs": [
    {
     "data": {
      "text/plain": [
       "'lakhan'"
      ]
     },
     "execution_count": 182,
     "metadata": {},
     "output_type": "execute_result"
    }
   ],
   "source": [
    "a='my name lakhan is'\n",
    "a=a.split(' ')\n",
    "for i in a:\n",
    "    a.sort(key=len)    \n",
    "a[-1]"
   ]
  },
  {
   "cell_type": "code",
   "execution_count": 8,
   "id": "70a6e39f",
   "metadata": {},
   "outputs": [
    {
     "name": "stdout",
     "output_type": "stream",
     "text": [
      "Enter a sentencemy name is Harshal\n"
     ]
    },
    {
     "data": {
      "text/plain": [
       "'Harshal'"
      ]
     },
     "execution_count": 8,
     "metadata": {},
     "output_type": "execute_result"
    }
   ],
   "source": [
    "a=input('Enter a sentence')\n",
    "a=a.split(' ')\n",
    "a.sort(reverse=True,key=len)\n",
    "a[0]\n",
    "    "
   ]
  },
  {
   "cell_type": "code",
   "execution_count": 95,
   "id": "3b3de8bc",
   "metadata": {},
   "outputs": [
    {
     "name": "stdout",
     "output_type": "stream",
     "text": [
      "Enter a Sentence: my name is Harshal\n",
      "The Longest Word is:  Harshal\n"
     ]
    }
   ],
   "source": [
    "# 5.\n",
    "# Find the longest word from the sentence\n",
    "sentence=str(input('Enter a Sentence: '))\n",
    "sent=sentence.split(' ')\n",
    "length=[]\n",
    "for word in sent:\n",
    "    length.append(len(word))\n",
    "print('The Longest Word is: ',sent[length.index(max(length))])    "
   ]
  },
  {
   "cell_type": "code",
   "execution_count": 11,
   "id": "4edb6702",
   "metadata": {},
   "outputs": [],
   "source": [
    "# 6.\n",
    "# Write a program that takes a string and returns a new string with all the vowels removed.\n",
    "# Example: remove_vowels(\"Hello World\") ➞ \"Hll Wrld\"\n",
    "\n",
    "def vowr(str1):\n",
    "    vow='aeiouAEIOU'\n",
    "    li1=[]\n",
    "    for w in str1:\n",
    "        if w not in vow:\n",
    "            li1.append(w)\n",
    "    return ''.join(li1)        \n"
   ]
  },
  {
   "cell_type": "code",
   "execution_count": 12,
   "id": "8e0e605c",
   "metadata": {},
   "outputs": [
    {
     "data": {
      "text/plain": [
       "'Hll Wrld'"
      ]
     },
     "execution_count": 12,
     "metadata": {},
     "output_type": "execute_result"
    }
   ],
   "source": [
    "vowr('Hello World')"
   ]
  },
  {
   "cell_type": "code",
   "execution_count": 186,
   "id": "7167f2f5",
   "metadata": {},
   "outputs": [
    {
     "name": "stdout",
     "output_type": "stream",
     "text": [
      "Enter a Sentence: Hello World\n"
     ]
    },
    {
     "data": {
      "text/plain": [
       "'Hll Wrld'"
      ]
     },
     "execution_count": 186,
     "metadata": {},
     "output_type": "execute_result"
    }
   ],
   "source": [
    "sentence=input('Enter a Sentence: ')\n",
    "a=[]\n",
    "for i in sentence:\n",
    "    if i not in 'AEIOUaeiou':\n",
    "        a.append(i)\n",
    "a= ''.join(a)\n",
    "a"
   ]
  },
  {
   "cell_type": "code",
   "execution_count": null,
   "id": "df6c45bc",
   "metadata": {},
   "outputs": [],
   "source": [
    "#7.\n",
    "# Create a function that takes a string of words and returns the longest word.\n",
    "# Example: longest_word(\"I love to code in Python\") ➞ \"Python\""
   ]
  },
  {
   "cell_type": "code",
   "execution_count": 26,
   "id": "94018738",
   "metadata": {},
   "outputs": [],
   "source": [
    "# same as 5 "
   ]
  },
  {
   "cell_type": "code",
   "execution_count": 19,
   "id": "03649b41",
   "metadata": {},
   "outputs": [],
   "source": [
    "#8.\n",
    "# Create a function that takes two strings and returns True if the first string ends with the second string; otherwise return False.\n",
    "# Example: ends_with(\"Hello World\", \"ld\") ➞ True"
   ]
  },
  {
   "cell_type": "code",
   "execution_count": 106,
   "id": "f1d339b5",
   "metadata": {},
   "outputs": [],
   "source": [
    "#9.\n",
    "# Given a list of numbers, write a function that returns True if there are any duplicates in the list; otherwise return False.\n",
    "# Example: has_duplicates([1, 2, 3, 4, 5]) ➞ False"
   ]
  },
  {
   "cell_type": "code",
   "execution_count": 27,
   "id": "5a79fd6b",
   "metadata": {},
   "outputs": [
    {
     "name": "stdout",
     "output_type": "stream",
     "text": [
      "Enter a Number: 1234564\n",
      "Duplicate\n"
     ]
    }
   ],
   "source": [
    "number=list(input('Enter a Number: '))\n",
    "number1=set(number)\n",
    "if len(number)==len(number1):\n",
    "    print('No duplicate')\n",
    "else:\n",
    "    print('Duplicate')"
   ]
  },
  {
   "cell_type": "code",
   "execution_count": 16,
   "id": "f32f2ce8",
   "metadata": {},
   "outputs": [
    {
     "name": "stdout",
     "output_type": "stream",
     "text": [
      "Enter a Number: 1,2,1,3,4,5\n",
      "Duplicate\n"
     ]
    }
   ],
   "source": [
    "number=(input('Enter a Number: '))\n",
    "number= number.split(',')\n",
    "number1=set(number)\n",
    "if len(number1)==len(number):\n",
    "    print('No duplicate')\n",
    "else:\n",
    "    print('Duplicate')\n",
    "    "
   ]
  },
  {
   "cell_type": "code",
   "execution_count": 104,
   "id": "3474103c",
   "metadata": {},
   "outputs": [
    {
     "name": "stdout",
     "output_type": "stream",
     "text": [
      "Enter a List of Number: 1,2,3,4,1,2\n"
     ]
    },
    {
     "data": {
      "text/plain": [
       "'True'"
      ]
     },
     "execution_count": 104,
     "metadata": {},
     "output_type": "execute_result"
    }
   ],
   "source": [
    "num_list= input('Enter a List of Number: ')\n",
    "num_list = num_list.split(',')\n",
    "def num_check(x):\n",
    "    for num in num_list:\n",
    "        if num_list.count(num)>1:\n",
    "            val='True'\n",
    "        else:\n",
    "            val='False'\n",
    "    return val\n",
    "num_check(num_list)"
   ]
  },
  {
   "cell_type": "code",
   "execution_count": 22,
   "id": "eaef8b8f",
   "metadata": {
    "scrolled": true
   },
   "outputs": [
    {
     "name": "stdout",
     "output_type": "stream",
     "text": [
      "enter the numb:1,2,3,4,1\n",
      "true\n"
     ]
    }
   ],
   "source": [
    "num_list = ((input('enter the numb:')))\n",
    "num_list=num_list.split(',')\n",
    "num_list_2 =set(num_list)\n",
    "if len(num_list) == len(num_list_2):\n",
    "    print('false')\n",
    "else:\n",
    "    print('true')"
   ]
  },
  {
   "cell_type": "code",
   "execution_count": 18,
   "id": "a3dc830e",
   "metadata": {},
   "outputs": [
    {
     "data": {
      "text/plain": [
       "['1', '2', '3', '4', '5', '5', '6']"
      ]
     },
     "execution_count": 18,
     "metadata": {},
     "output_type": "execute_result"
    }
   ],
   "source": [
    "num_list"
   ]
  },
  {
   "cell_type": "code",
   "execution_count": 19,
   "id": "832e52f3",
   "metadata": {},
   "outputs": [
    {
     "data": {
      "text/plain": [
       "{'1', '2', '3', '4', '5', '6'}"
      ]
     },
     "execution_count": 19,
     "metadata": {},
     "output_type": "execute_result"
    }
   ],
   "source": [
    "num_list_2"
   ]
  },
  {
   "cell_type": "code",
   "execution_count": null,
   "id": "4f416330",
   "metadata": {},
   "outputs": [],
   "source": [
    "def duplicates(input1):\n",
    "    duplicate=[]\n",
    "    for i in input1:\n",
    "        if input1.count(i)>1:\n",
    "            \n",
    "           \n",
    "        print(set(duplicate))    \n",
    "            \n",
    "duplicates([1,2,3,4,2,3])            "
   ]
  },
  {
   "cell_type": "code",
   "execution_count": null,
   "id": "7736307c",
   "metadata": {},
   "outputs": [],
   "source": [
    "def is_prime(number):\n",
    "    if number < 2:\n",
    "        return False\n",
    "\n",
    "    for i in range(2, int(number**0.5) + 1):\n",
    "        if number % i == 0:\n",
    "            return False\n",
    "\n",
    "    return True"
   ]
  },
  {
   "cell_type": "code",
   "execution_count": null,
   "id": "c835597e",
   "metadata": {},
   "outputs": [],
   "source": []
  },
  {
   "cell_type": "code",
   "execution_count": null,
   "id": "e88892dd",
   "metadata": {},
   "outputs": [],
   "source": [
    "# 10.\n",
    "# Given a list of numbers, write a function that returns True if there are any duplicates in the list; otherwise return False.\n",
    "# Example: has_duplicates([1, 2, 3, 4, 5]) ➞ False"
   ]
  },
  {
   "cell_type": "code",
   "execution_count": 107,
   "id": "fb9aa1e7",
   "metadata": {},
   "outputs": [],
   "source": [
    "# same as 9"
   ]
  },
  {
   "cell_type": "code",
   "execution_count": null,
   "id": "a04fca5a",
   "metadata": {},
   "outputs": [],
   "source": [
    "# 11.\n",
    "# Solve the following game.\n",
    "\n",
    "# Step 1. Generate a random number between 1 to 100. \n",
    "\n",
    "# Step 2. Accept another number from user in the same range. \n",
    "\n",
    "# Step 3. Generate score of the round : \n",
    "\n",
    "# Rule 1: If both numbers have 1 factor common - Score 1\n",
    "\n",
    "# Rule 2: If both numbers have 2 factors common - Score 2\n",
    "\n",
    "# Rule 3: If both numbers have 3 factors common - Score 3\n",
    "\n",
    "# Rule 4: If both numbers have more than 3 factors common - Score 5\n",
    "\n",
    "# Generate 3 rounds of game. Cumulate the scores of each round. If total score is 10 or more. Declare winner.    "
   ]
  },
  {
   "cell_type": "code",
   "execution_count": null,
   "id": "0bb055f1",
   "metadata": {},
   "outputs": [],
   "source": []
  },
  {
   "cell_type": "code",
   "execution_count": 11,
   "id": "9c8f5087",
   "metadata": {},
   "outputs": [],
   "source": [
    "# 12.\n",
    "#Create a function that takes an integer argument and returns a list of prime found in the  decimal representation of that number \n",
    "# extrac_primes(1717)- [7,7,17,17,71]"
   ]
  },
  {
   "cell_type": "code",
   "execution_count": 45,
   "id": "6223df92",
   "metadata": {},
   "outputs": [],
   "source": [
    "def prime_no(num):\n",
    "    if num==0 or num==1 or num==2:\n",
    "        return False\n",
    "    for i in range(2,num):\n",
    "        if num%i==0:\n",
    "            return False\n",
    "    return True     "
   ]
  },
  {
   "cell_type": "code",
   "execution_count": null,
   "id": "b0267aff",
   "metadata": {},
   "outputs": [],
   "source": []
  },
  {
   "cell_type": "code",
   "execution_count": 55,
   "id": "5dd48a95",
   "metadata": {},
   "outputs": [
    {
     "data": {
      "text/plain": [
       "True"
      ]
     },
     "execution_count": 55,
     "metadata": {},
     "output_type": "execute_result"
    }
   ],
   "source": [
    "prime_no(7)"
   ]
  },
  {
   "cell_type": "code",
   "execution_count": null,
   "id": "c56dcb43",
   "metadata": {},
   "outputs": [],
   "source": []
  },
  {
   "cell_type": "code",
   "execution_count": null,
   "id": "66cd79cd",
   "metadata": {},
   "outputs": [],
   "source": []
  },
  {
   "cell_type": "code",
   "execution_count": null,
   "id": "c67588f7",
   "metadata": {
    "scrolled": true
   },
   "outputs": [],
   "source": []
  },
  {
   "cell_type": "code",
   "execution_count": 21,
   "id": "5365b36a",
   "metadata": {},
   "outputs": [
    {
     "data": {
      "text/plain": [
       "0"
      ]
     },
     "execution_count": 21,
     "metadata": {},
     "output_type": "execute_result"
    }
   ],
   "source": [
    "nums = [1,2,3]\n",
    "nums.index(1) # returns index"
   ]
  },
  {
   "cell_type": "code",
   "execution_count": 19,
   "id": "a0ef5009",
   "metadata": {},
   "outputs": [
    {
     "data": {
      "text/plain": [
       "[1, 2, 3, 1]"
      ]
     },
     "execution_count": 19,
     "metadata": {},
     "output_type": "execute_result"
    }
   ],
   "source": [
    "nums.append(1) # appends 1\n",
    "nums"
   ]
  },
  {
   "cell_type": "code",
   "execution_count": 22,
   "id": "ca9a98cb",
   "metadata": {},
   "outputs": [
    {
     "data": {
      "text/plain": [
       "[10, 1, 2, 3]"
      ]
     },
     "execution_count": 22,
     "metadata": {},
     "output_type": "execute_result"
    }
   ],
   "source": [
    "nums.insert(0,10) # inserts 10 at 0th index\n",
    "nums"
   ]
  },
  {
   "cell_type": "code",
   "execution_count": 23,
   "id": "8dfd79ba",
   "metadata": {
    "scrolled": true
   },
   "outputs": [
    {
     "data": {
      "text/plain": [
       "[10, 1, 2]"
      ]
     },
     "execution_count": 23,
     "metadata": {},
     "output_type": "execute_result"
    }
   ],
   "source": [
    "nums.remove(3) # removes all instances of 3\n",
    "nums"
   ]
  },
  {
   "cell_type": "code",
   "execution_count": 24,
   "id": "5a5b288c",
   "metadata": {},
   "outputs": [
    {
     "data": {
      "text/plain": [
       "1"
      ]
     },
     "execution_count": 24,
     "metadata": {},
     "output_type": "execute_result"
    }
   ],
   "source": [
    "nums.count(1) # returns no.of times '1' is present in the list\n"
   ]
  },
  {
   "cell_type": "code",
   "execution_count": 25,
   "id": "e05a9d85",
   "metadata": {
    "scrolled": true
   },
   "outputs": [
    {
     "data": {
      "text/plain": [
       "2"
      ]
     },
     "execution_count": 25,
     "metadata": {},
     "output_type": "execute_result"
    }
   ],
   "source": [
    "nums.pop() # pops last element [which element to pop can also be given as optional argument]\n"
   ]
  },
  {
   "cell_type": "code",
   "execution_count": 26,
   "id": "26689a30",
   "metadata": {},
   "outputs": [
    {
     "data": {
      "text/plain": [
       "[1, 10]"
      ]
     },
     "execution_count": 26,
     "metadata": {},
     "output_type": "execute_result"
    }
   ],
   "source": [
    "nums.reverse() # reverses original list (nums in this case)\n",
    "nums"
   ]
  },
  {
   "cell_type": "code",
   "execution_count": 28,
   "id": "26652be6",
   "metadata": {},
   "outputs": [
    {
     "data": {
      "text/plain": [
       "[1, 10]"
      ]
     },
     "execution_count": 28,
     "metadata": {},
     "output_type": "execute_result"
    }
   ],
   "source": [
    "nums.sort() # sorts list [does NOT return sorted list]\n",
    "nums"
   ]
  },
  {
   "cell_type": "code",
   "execution_count": null,
   "id": "59f0c6a0",
   "metadata": {},
   "outputs": [],
   "source": [
    "nums = [1,2,3]\n",
    "la=[12,13]"
   ]
  },
  {
   "cell_type": "code",
   "execution_count": 29,
   "id": "e793a677",
   "metadata": {},
   "outputs": [
    {
     "data": {
      "text/plain": [
       "[1, 10, 12, 13]"
      ]
     },
     "execution_count": 29,
     "metadata": {},
     "output_type": "execute_result"
    }
   ],
   "source": [
    "la=[12,13]\n",
    "nums.extend(la)\n",
    "nums"
   ]
  },
  {
   "cell_type": "raw",
   "id": "cb89fc42",
   "metadata": {},
   "source": [
    "It's pretty simple really:\n",
    "\n",
    "a[start:stop]  # items start through stop-1\n",
    "a[start:]      # items start through the rest of the array\n",
    "a[:stop]       # items from the beginning through stop-1\n",
    "a[:]           # a copy of the whole array\n",
    "There is also the step value, which can be used with any of the above:\n",
    "\n",
    "a[start:stop:step] # start through not past stop, by step\n",
    "The key point to remember is that the :stop value represents the first value that is not in the selected slice. So, the difference between stop and start is the number of elements selected (if step is 1, the default).\n",
    "\n",
    "The other feature is that start or stop may be a negative number, which means it counts from the end of the array instead of the beginning. So:\n",
    "\n",
    "a[-1]    # last item in the array\n",
    "a[-2:]   # last two items in the array\n",
    "a[:-2]   # everything except the last two items\n",
    "Similarly, step may be a negative number:\n",
    "\n",
    "a[::-1]    # all items in the array, reversed\n",
    "a[1::-1]   # the first two items, reversed\n",
    "a[:-3:-1]  # the last two items, reversed\n",
    "a[-3::-1]  # everything except the last two items, reversed\n",
    "Python is kind to the programmer if there are fewer items than you ask for. For example, if you ask for a[:-2] and a only contains one element, you get an empty list instead of an error. Sometimes you would prefer the error, so you have to be aware that this may happen.\n",
    "\n",
    "Relation to slice() object\n",
    "The slicing operator [] is actually being used in the above code with a slice() object using the : notation (which is only valid within []), i.e.:\n",
    "\n",
    "a[start:stop:step]\n",
    "is equivalent to:\n",
    "\n",
    "a[slice(start, stop, step)]\n",
    "Slice objects also behave slightly differently depending on the number of arguments, similarly to range(), i.e. both slice(stop) and slice(start, stop[, step]) are supported. To skip specifying a given argument, one might use None, so that e.g. a[start:] is equivalent to a[slice(start, None)] or a[::-1] is equivalent to a[slice(None, None, -1)].\n"
   ]
  },
  {
   "cell_type": "code",
   "execution_count": 57,
   "id": "d6c76ab1",
   "metadata": {},
   "outputs": [],
   "source": [
    "a=[1,2,3,4,5,6,7,8,9,0,11] #total 11 \n",
    "b=['a','b','c','d','e','f'] #total 6"
   ]
  },
  {
   "cell_type": "code",
   "execution_count": 58,
   "id": "14d8884e",
   "metadata": {},
   "outputs": [
    {
     "data": {
      "text/plain": [
       "[1, 2, 3, 4, 5, 6, 7, 8, 9, 0]"
      ]
     },
     "execution_count": 58,
     "metadata": {},
     "output_type": "execute_result"
    }
   ],
   "source": [
    "#a[start from zero (inclusive) :stop where you want +1 because not print end one(exclusive)]  # items start through stop-1\n",
    "a[0:10]  "
   ]
  },
  {
   "cell_type": "code",
   "execution_count": 59,
   "id": "fd957860",
   "metadata": {},
   "outputs": [
    {
     "data": {
      "text/plain": [
       "[6, 7, 8, 9, 0, 11]"
      ]
     },
     "execution_count": 59,
     "metadata": {},
     "output_type": "execute_result"
    }
   ],
   "source": [
    "# a[start:]      # items start through the rest of the array\n",
    "a[5:]"
   ]
  },
  {
   "cell_type": "code",
   "execution_count": 60,
   "id": "d6e583c9",
   "metadata": {},
   "outputs": [
    {
     "data": {
      "text/plain": [
       "[1, 2, 3, 4, 5]"
      ]
     },
     "execution_count": 60,
     "metadata": {},
     "output_type": "execute_result"
    }
   ],
   "source": [
    "# a[:stop]       # items from the beginning through stop-1\n",
    "a[:5]"
   ]
  },
  {
   "cell_type": "code",
   "execution_count": null,
   "id": "b5ba31e2",
   "metadata": {},
   "outputs": [],
   "source": []
  },
  {
   "cell_type": "code",
   "execution_count": null,
   "id": "1b641c76",
   "metadata": {},
   "outputs": [],
   "source": []
  },
  {
   "cell_type": "code",
   "execution_count": null,
   "id": "27e076f0",
   "metadata": {},
   "outputs": [],
   "source": []
  },
  {
   "cell_type": "code",
   "execution_count": null,
   "id": "ade2f9d8",
   "metadata": {},
   "outputs": [],
   "source": []
  },
  {
   "cell_type": "code",
   "execution_count": null,
   "id": "6a42c85d",
   "metadata": {},
   "outputs": [],
   "source": []
  },
  {
   "cell_type": "code",
   "execution_count": null,
   "id": "792d1d52",
   "metadata": {},
   "outputs": [],
   "source": []
  },
  {
   "cell_type": "code",
   "execution_count": 61,
   "id": "7283fdfe",
   "metadata": {},
   "outputs": [
    {
     "name": "stdout",
     "output_type": "stream",
     "text": [
      "[0, 4, 6]\n"
     ]
    }
   ],
   "source": [
    "# Using enumerate to Find Index Positions\n",
    "a_list = [1,2,3,4,1,2,1,2,3,4]\n",
    "def find_indices(list_to_check, item_to_find):\n",
    "    indices = []\n",
    "    for idx, value in enumerate(a_list):\n",
    "        if value == item_to_find:\n",
    "            indices.append(idx)\n",
    "    return indices\n",
    "\n",
    "print(find_indices(a_list, 1))"
   ]
  },
  {
   "cell_type": "code",
   "execution_count": 62,
   "id": "ecb9a21e",
   "metadata": {},
   "outputs": [
    {
     "name": "stdout",
     "output_type": "stream",
     "text": [
      "[]\n"
     ]
    }
   ],
   "source": [
    "def find_indices(list_to_check, item_to_find):\n",
    "    indices = []\n",
    "    for idx, value in enumerate(a):\n",
    "        if value == item_to_find:\n",
    "            indices.append(idx)\n",
    "    return indices\n",
    "\n",
    "print(find_indices(a, 12))"
   ]
  },
  {
   "cell_type": "code",
   "execution_count": 63,
   "id": "f8f96cc3",
   "metadata": {},
   "outputs": [
    {
     "data": {
      "text/plain": [
       "[0]"
      ]
     },
     "execution_count": 63,
     "metadata": {},
     "output_type": "execute_result"
    }
   ],
   "source": [
    "find_indices(a,1)"
   ]
  },
  {
   "cell_type": "code",
   "execution_count": 64,
   "id": "25ba09c1",
   "metadata": {},
   "outputs": [
    {
     "data": {
      "text/plain": [
       "0"
      ]
     },
     "execution_count": 64,
     "metadata": {},
     "output_type": "execute_result"
    }
   ],
   "source": [
    "a.index(1)"
   ]
  },
  {
   "cell_type": "code",
   "execution_count": 65,
   "id": "95a4f3fe",
   "metadata": {},
   "outputs": [
    {
     "name": "stdout",
     "output_type": "stream",
     "text": [
      "[0]\n"
     ]
    }
   ],
   "source": [
    "def find_indices(list_to_check, item_to_find):\n",
    "    indices = []\n",
    "    for i, value in enumerate(a):\n",
    "        if value == item_to_find:\n",
    "            indices.append(i)\n",
    "    return indices\n",
    "\n",
    "print(find_indices(a, 1))"
   ]
  },
  {
   "cell_type": "code",
   "execution_count": 66,
   "id": "5a61f46b",
   "metadata": {},
   "outputs": [
    {
     "name": "stdout",
     "output_type": "stream",
     "text": [
      "[10]\n"
     ]
    }
   ],
   "source": [
    "def indices(list_to_check, item_to_find):\n",
    "    indice = []\n",
    "    for i, value in enumerate(a):\n",
    "        if value == item_to_find:\n",
    "            indice.append(i)\n",
    "    return indice\n",
    "\n",
    "print(indices(a, 11))"
   ]
  },
  {
   "cell_type": "code",
   "execution_count": 67,
   "id": "55515b1b",
   "metadata": {},
   "outputs": [
    {
     "name": "stdout",
     "output_type": "stream",
     "text": [
      "0\n",
      "1\n",
      "2\n",
      "3\n",
      "4\n",
      "5\n",
      "6\n",
      "7\n",
      "8\n",
      "9\n",
      "10\n"
     ]
    }
   ],
   "source": [
    "for i, value in enumerate(a):\n",
    "    print(i)"
   ]
  },
  {
   "cell_type": "code",
   "execution_count": 68,
   "id": "8fb81f82",
   "metadata": {},
   "outputs": [
    {
     "data": {
      "text/plain": [
       "False"
      ]
     },
     "execution_count": 68,
     "metadata": {},
     "output_type": "execute_result"
    }
   ],
   "source": [
    "value in enumerate(a)"
   ]
  },
  {
   "cell_type": "code",
   "execution_count": 69,
   "id": "e1978531",
   "metadata": {},
   "outputs": [
    {
     "data": {
      "text/plain": [
       "[(0, 1),\n",
       " (1, 2),\n",
       " (2, 3),\n",
       " (3, 4),\n",
       " (4, 5),\n",
       " (5, 6),\n",
       " (6, 7),\n",
       " (7, 8),\n",
       " (8, 9),\n",
       " (9, 0),\n",
       " (10, 11)]"
      ]
     },
     "execution_count": 69,
     "metadata": {},
     "output_type": "execute_result"
    }
   ],
   "source": [
    "list(enumerate(a))"
   ]
  },
  {
   "cell_type": "code",
   "execution_count": 70,
   "id": "2c6fc1f8",
   "metadata": {},
   "outputs": [
    {
     "data": {
      "text/plain": [
       "{0: 1, 1: 2, 2: 3, 3: 4, 4: 5, 5: 6, 6: 7, 7: 8, 8: 9, 9: 0, 10: 11}"
      ]
     },
     "execution_count": 70,
     "metadata": {},
     "output_type": "execute_result"
    }
   ],
   "source": [
    "dict(enumerate(a))"
   ]
  },
  {
   "cell_type": "code",
   "execution_count": 71,
   "id": "2e0dc902",
   "metadata": {},
   "outputs": [
    {
     "data": {
      "text/plain": [
       "((0, 1),\n",
       " (1, 2),\n",
       " (2, 3),\n",
       " (3, 4),\n",
       " (4, 5),\n",
       " (5, 6),\n",
       " (6, 7),\n",
       " (7, 8),\n",
       " (8, 9),\n",
       " (9, 0),\n",
       " (10, 11))"
      ]
     },
     "execution_count": 71,
     "metadata": {},
     "output_type": "execute_result"
    }
   ],
   "source": [
    "tuple(enumerate(a))"
   ]
  },
  {
   "cell_type": "code",
   "execution_count": 72,
   "id": "fce97111",
   "metadata": {},
   "outputs": [
    {
     "name": "stdout",
     "output_type": "stream",
     "text": [
      "25\n",
      "(25+0j)\n"
     ]
    }
   ],
   "source": [
    "a=25.6\n",
    "print(round(int(a),0))\n",
    "print(complex(int(a)))"
   ]
  },
  {
   "cell_type": "code",
   "execution_count": 73,
   "id": "163cf244",
   "metadata": {},
   "outputs": [
    {
     "name": "stdout",
     "output_type": "stream",
     "text": [
      "{'1': 'Rahul', 'Alphabet': '2'}\n"
     ]
    }
   ],
   "source": [
    "x= (('1', 'Rahul'), ('Alphabet','2'))\n",
    "print(dict(x))"
   ]
  }
 ],
 "metadata": {
  "kernelspec": {
   "display_name": "Python 3 (ipykernel)",
   "language": "python",
   "name": "python3"
  },
  "language_info": {
   "codemirror_mode": {
    "name": "ipython",
    "version": 3
   },
   "file_extension": ".py",
   "mimetype": "text/x-python",
   "name": "python",
   "nbconvert_exporter": "python",
   "pygments_lexer": "ipython3",
   "version": "3.9.13"
  }
 },
 "nbformat": 4,
 "nbformat_minor": 5
}
