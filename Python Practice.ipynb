{
 "cells": [
  {
   "cell_type": "markdown",
   "id": "013a5730",
   "metadata": {},
   "source": [
    "### Complexity Level - Simple"
   ]
  },
  {
   "cell_type": "raw",
   "id": "d88be493",
   "metadata": {},
   "source": [
    "A lambda function in Python is an anonymous function that is defined using the lambda keyword. \n",
    "It is a way to create small, one-line functions without the need for a formal function definition. \n",
    "Lambda functions are commonly used when a simple function is needed for a short duration or as an argument to a higher-order function."
   ]
  },
  {
   "cell_type": "raw",
   "id": "35647d17",
   "metadata": {},
   "source": [
    "syntax of a lambda function\n",
    "\n",
    "lambda arguments: expression\n"
   ]
  },
  {
   "cell_type": "markdown",
   "id": "83a115e6",
   "metadata": {},
   "source": [
    "# For loop and List Comprehension and Lambda function"
   ]
  },
  {
   "cell_type": "markdown",
   "id": "53dfc502",
   "metadata": {},
   "source": [
    "# Q1. Create a list of first 10 natural numbers"
   ]
  },
  {
   "cell_type": "code",
   "execution_count": 33,
   "id": "de56ec07",
   "metadata": {},
   "outputs": [
    {
     "data": {
      "text/plain": [
       "[1, 2, 3, 4, 5, 6, 7, 8, 9, 10]"
      ]
     },
     "execution_count": 33,
     "metadata": {},
     "output_type": "execute_result"
    }
   ],
   "source": [
    "nat_num=list(range(1,11))\n",
    "nat_num"
   ]
  },
  {
   "cell_type": "code",
   "execution_count": 16,
   "id": "75e60b46",
   "metadata": {},
   "outputs": [
    {
     "data": {
      "text/plain": [
       "[1, 2, 3, 4, 5, 6, 7, 8, 9, 10]"
      ]
     },
     "execution_count": 16,
     "metadata": {},
     "output_type": "execute_result"
    }
   ],
   "source": [
    "for_nat_num=[]\n",
    "for i in range(1,11):\n",
    "    for_nat_num.append(i)\n",
    "for_nat_num    "
   ]
  },
  {
   "cell_type": "code",
   "execution_count": 18,
   "id": "175ce4c9",
   "metadata": {},
   "outputs": [
    {
     "data": {
      "text/plain": [
       "[1, 2, 3, 4, 5, 6, 7, 8, 9, 10]"
      ]
     },
     "execution_count": 18,
     "metadata": {},
     "output_type": "execute_result"
    }
   ],
   "source": [
    "lc_nat_num=[i for i in range(1,11)]\n",
    "lc_nat_num"
   ]
  },
  {
   "cell_type": "code",
   "execution_count": 22,
   "id": "1741b872",
   "metadata": {},
   "outputs": [
    {
     "data": {
      "text/plain": [
       "[1, 2, 3, 4, 5, 6, 7, 8, 9, 10]"
      ]
     },
     "execution_count": 22,
     "metadata": {},
     "output_type": "execute_result"
    }
   ],
   "source": [
    "ld_nat_num=list(map(lambda x:x, range(1,11) ))\n",
    "ld_nat_num"
   ]
  },
  {
   "cell_type": "markdown",
   "id": "8c0ab309",
   "metadata": {},
   "source": [
    "# Q2. Take the input of Q1 list display \n",
    "\n",
    "a. alternate number\n",
    "\n",
    "b. only even numbers\n",
    "\n",
    "c. numbers greater than 5\n",
    "\n",
    "d. numbers divible by 4"
   ]
  },
  {
   "cell_type": "markdown",
   "id": "b14f125a",
   "metadata": {},
   "source": [
    "# a. alternate number"
   ]
  },
  {
   "cell_type": "code",
   "execution_count": 74,
   "id": "034e0a3d",
   "metadata": {},
   "outputs": [
    {
     "name": "stdout",
     "output_type": "stream",
     "text": [
      "method-1\n",
      "[1, 2, 5, 6, 9, 10]\n",
      "--------------------------------------------------\n",
      "method-2\n",
      "1\n",
      "2\n",
      "5\n",
      "6\n",
      "9\n",
      "10\n",
      "--------------------------------------------------\n",
      "method-3\n",
      "1\n",
      "2\n",
      "5\n",
      "6\n",
      "9\n",
      "10\n",
      "--------------------------------------------------\n",
      "method- 4\n",
      "[1, 2, 5, 6, 9, 10]\n",
      "--------------------------------------------------\n",
      "method- 5\n",
      "[1, 2, 5, 6, 9, 10]\n",
      "--------------------------------------------------\n",
      "method- 6\n",
      "[1, 2, 5, 6, 9, 10]\n",
      "--------------------------------------------------\n",
      "method- 7\n",
      "[1, 2, 5, 6, 9, 10]\n",
      "--------------------------------------------------\n",
      "method- 8\n",
      "1\n",
      "2\n",
      "5\n",
      "6\n",
      "9\n",
      "10\n",
      "--------------------------------------------------\n",
      "method- 9\n",
      "0\n",
      "2\n",
      "4\n",
      "6\n",
      "8\n",
      "10\n"
     ]
    }
   ],
   "source": [
    "print('method-1')\n",
    "\n",
    "q1=[1,3,2,4,5,7,6,8,9,11,10,12]\n",
    "al=[]\n",
    "for i in range(len(q1)):\n",
    "    if i%2==0:\n",
    "        al.append(q1[i])\n",
    "print(al)   \n",
    "print('-'*50)\n",
    "\n",
    "\n",
    "print('method-2')\n",
    "\n",
    "for i in range(len(q1)):\n",
    "    if i%2==0:\n",
    "        print(q1[i])\n",
    "print('-'*50)\n",
    "\n",
    "\n",
    "print('method-3')\n",
    "\n",
    "for num, i in enumerate(q1):\n",
    "    if num%2==0:\n",
    "        print(i)\n",
    "print('-'*50)\n",
    "\n",
    "\n",
    "print('method-',4)\n",
    "\n",
    "a=[i for num,i in enumerate(q1) if num%2==0]\n",
    "print(a)\n",
    "print('-'*50)\n",
    "\n",
    "\n",
    "print('method-',5)\n",
    "\n",
    "b=[q1[i] for i in range(len(q1)) if i%2==0]\n",
    "print(b)\n",
    "print('-'*50)\n",
    "\n",
    "\n",
    "print('method-',6)\n",
    "\n",
    "c=list(filter(lambda x:q1.index(x)%2==0,q1))\n",
    "print(c)\n",
    "print('-'*50)\n",
    "\n",
    "\n",
    "print('method-',7)\n",
    "\n",
    "l=[]\n",
    "def alt_num(Q1):\n",
    "    for i in range(len(Q1)):\n",
    "        if i%2==0:\n",
    "            l.append(Q1[i])\n",
    "    return    \n",
    "alt_num(q1)\n",
    "print(l)\n",
    "print('-'*50)\n",
    "\n",
    "\n",
    "print('method-',8)\n",
    "def alt_num1(Q1):\n",
    "    for i in range(len(Q1)):\n",
    "        if i%2==0:\n",
    "            print(Q1[i])\n",
    "    return    \n",
    "alt_num1(q1)\n",
    "print('-'*50)\n",
    "\n",
    "\n",
    "print('method-',9)\n",
    "def alt_num2(Q1):\n",
    "    for num, i in enumerate(Q1):\n",
    "        if num%2==0:\n",
    "            print(num)\n",
    "    return\n",
    "alt_num2(q1)        "
   ]
  },
  {
   "cell_type": "markdown",
   "id": "04e49a27",
   "metadata": {},
   "source": [
    "# b. only even numbers\n",
    "only remove len and enumerate"
   ]
  },
  {
   "cell_type": "code",
   "execution_count": 76,
   "id": "d682a1fd",
   "metadata": {},
   "outputs": [
    {
     "data": {
      "text/plain": [
       "[2, 4, 6, 8, 10, 12]"
      ]
     },
     "execution_count": 76,
     "metadata": {},
     "output_type": "execute_result"
    }
   ],
   "source": [
    "# here we are using filter because we have to extract some element from list \n",
    "b=list(filter(lambda x: x%2==0,q1))\n",
    "b"
   ]
  },
  {
   "cell_type": "markdown",
   "id": "378828f9",
   "metadata": {},
   "source": [
    "# c. numbers greater than 5\n",
    "1. change the loop-------------remove len and enumerate\n",
    "2. change the condition ------if i>5:"
   ]
  },
  {
   "cell_type": "code",
   "execution_count": 77,
   "id": "f319936c",
   "metadata": {},
   "outputs": [
    {
     "data": {
      "text/plain": [
       "[7, 6, 8, 9, 11, 10, 12]"
      ]
     },
     "execution_count": 77,
     "metadata": {},
     "output_type": "execute_result"
    }
   ],
   "source": [
    "c=list(filter(lambda x: x>5,q1))\n",
    "c"
   ]
  },
  {
   "cell_type": "markdown",
   "id": "5f25978a",
   "metadata": {},
   "source": [
    "# d. numbers divible by 4\n",
    "1. change the loop-------------remove len and enumerate\n",
    "2. change the condition ---------if i%4==0"
   ]
  },
  {
   "cell_type": "code",
   "execution_count": 78,
   "id": "14fe27a0",
   "metadata": {
    "scrolled": true
   },
   "outputs": [
    {
     "data": {
      "text/plain": [
       "[4, 8, 12]"
      ]
     },
     "execution_count": 78,
     "metadata": {},
     "output_type": "execute_result"
    }
   ],
   "source": [
    "d= list(filter(lambda x: x%4==0,q1))\n",
    "d"
   ]
  },
  {
   "cell_type": "markdown",
   "id": "3f4d9316",
   "metadata": {},
   "source": [
    "# Q3.Take the input of Q1 list and create a dictionary\n",
    "a. Key as 1, 2, 3, 4, 5 and values as numbers divible by 1, numbers divible by 2, numbers divible by 3, numbers divible by 4, numbers divible by 5\n",
    "\n",
    "b. Key as 1, 2, 3, 4, 5 and values as count of numbers divible by 1, count of numbers divible by 2, count of numbers divible by 3, count of numbers divible by 4, count of numbers divible by 5"
   ]
  },
  {
   "cell_type": "code",
   "execution_count": 152,
   "id": "ee5f3b3e",
   "metadata": {},
   "outputs": [
    {
     "name": "stdout",
     "output_type": "stream",
     "text": [
      "method-1 using for loop\n",
      "{1: [1, 3, 2, 4, 5, 7, 6, 8, 9, 11, 10, 12], 2: [2, 4, 6, 8, 10, 12], 3: [3, 6, 9, 12], 4: [4, 8, 12], 5: [5, 10]}\n",
      "--------------------------------------------------\n",
      "method-2 - list comprehension method\n",
      "{1: [1, 3, 2, 4, 5, 7, 6, 8, 9, 11, 10, 12], 2: [2, 4, 6, 8, 10, 12], 3: [3, 6, 9, 12], 4: [4, 8, 12], 5: [5, 10]}\n",
      "--------------------------------------------------\n",
      "method-3 - list comprehension method\n",
      "{1: [1, 3, 2, 4, 5, 7, 6, 8, 9, 11, 10, 12], 2: [2, 4, 6, 8, 10, 12], 3: [3, 6, 9, 12], 4: [4, 8, 12], 5: [5, 10]}\n",
      "--------------------------------------------------\n",
      "method-3 - lambda function\n",
      "{1: [1, 3, 2, 4, 5, 7, 6, 8, 9, 11, 10, 12], 2: [2, 4, 6, 8, 10, 12], 3: [3, 6, 9, 12], 4: [4, 8, 12], 5: [5, 10]}\n",
      "--------------------------------------------------\n",
      "method-2 - lambda function\n",
      "{1: [1, 3, 2, 4, 5, 7, 6, 8, 9, 11, 10, 12], 2: [2, 4, 6, 8, 10, 12], 3: [3, 6, 9, 12], 4: [4, 8, 12], 5: [5, 10]}\n"
     ]
    }
   ],
   "source": [
    "print('method-1 using for loop')\n",
    "div={}\n",
    "for i in range (1,6):\n",
    "    div[i]=[]\n",
    "    for num in q1:\n",
    "        if num%i==0:\n",
    "            div[i].append(num)\n",
    "print(div)\n",
    "print('-'*50)\n",
    "\n",
    "\n",
    "print('method-2 - list comprehension method')\n",
    "\n",
    "div={}\n",
    "for i in range(1,6):\n",
    "    div[i]=[num for num in q1 if num%i==0]\n",
    "print(div)\n",
    "print('-'*50)\n",
    "\n",
    "\n",
    "print('method-3 - list comprehension method')\n",
    "\n",
    "div={i:[num for num in q1 if num%i==0] for i in range(1,6)}\n",
    "print(div)\n",
    "print('-'*50)\n",
    "\n",
    "\n",
    "print('method-3 - lambda function')\n",
    "div={i: list(filter(lambda x: x%i==0 , q1)) for i in range(1,6)}\n",
    "print(div)\n",
    "print('-'*50)\n",
    "\n",
    "\n",
    "print('method-2 - lambda function')\n",
    "div={}\n",
    "for i in range(1,6):\n",
    "        div[i]=list(filter(lambda x: x%i==0, q1))\n",
    "print(div)        "
   ]
  },
  {
   "cell_type": "markdown",
   "id": "f978211d",
   "metadata": {},
   "source": [
    "# b. Key as 1, 2, 3, 4, 5 and values as count of numbers divible by 1, count of numbers divible by 2, count of numbers divible by 3, count of numbers divible by 4, count of numbers divible by 5"
   ]
  },
  {
   "cell_type": "code",
   "execution_count": 153,
   "id": "132be169",
   "metadata": {},
   "outputs": [
    {
     "name": "stdout",
     "output_type": "stream",
     "text": [
      "method-1 using for loop\n",
      "{1: 12, 2: 6, 3: 4, 4: 3, 5: 2}\n",
      "--------------------------------------------------\n",
      "method-2 - list comprehension method\n",
      "{1: 12, 2: 6, 3: 4, 4: 3, 5: 2}\n",
      "--------------------------------------------------\n",
      "method-3 - lambda function\n",
      "{1: 12, 2: 6, 3: 4, 4: 3, 5: 2}\n"
     ]
    }
   ],
   "source": [
    "print('method-1 using for loop')\n",
    "div_cou={}\n",
    "for i in range(1,6):\n",
    "    count=0\n",
    "    div_cou[i]=[]\n",
    "    for num in q1:\n",
    "        if num%i==0:\n",
    "            count+=1\n",
    "            div_cou[i]=count\n",
    "print(div_cou)     \n",
    "print('-'*50)\n",
    "\n",
    "\n",
    "print('method-2 - list comprehension method')\n",
    "div_com={i:sum(1 for num in q1 if num%i==0) for i in range(1,6)}\n",
    "print(div_cou)\n",
    "print('-'*50)\n",
    "\n",
    "\n",
    "print('method-3 - lambda function')\n",
    "div_cou={i: sum(map(lambda x: x%i==0,q1)) for i in range(1,6)}\n",
    "print(div_cou)"
   ]
  },
  {
   "cell_type": "markdown",
   "id": "c1d4e8b6",
   "metadata": {},
   "source": [
    "# Q4. Write a function to check if the given number is prime or not."
   ]
  },
  {
   "cell_type": "code",
   "execution_count": 156,
   "id": "da4e766d",
   "metadata": {},
   "outputs": [
    {
     "name": "stdout",
     "output_type": "stream",
     "text": [
      "Enter a Number: 12\n",
      "not prime\n"
     ]
    }
   ],
   "source": [
    "number=int(input('Enter a Number: '))\n",
    "def is_prime(number):\n",
    "    if number<2:\n",
    "        return 'not prime'\n",
    "    for i in range(2,number):\n",
    "        if number%i==0:\n",
    "            return 'not prime'\n",
    "    return 'prime'\n",
    "print(is_prime(number))"
   ]
  },
  {
   "cell_type": "markdown",
   "id": "759d12f3",
   "metadata": {},
   "source": [
    "# Q5. Use the function created in Q4 and create a dictionary where keys are 'prime' and 'non-prime' and values are list of prime numbers and non-prime number respectively in given range."
   ]
  },
  {
   "cell_type": "code",
   "execution_count": 17,
   "id": "ae97c74c",
   "metadata": {},
   "outputs": [
    {
     "name": "stdout",
     "output_type": "stream",
     "text": [
      "Enter the starting number of the range: 12\n",
      "Enter the ending number of the range: 19\n",
      "{'prime': [13, 17, 19], 'non-prime': [12, 14, 15, 16, 18]}\n"
     ]
    }
   ],
   "source": [
    "def is_prime(number):\n",
    "    if number < 2:\n",
    "        return False\n",
    "    for i in range(2, number):\n",
    "        if number % i == 0:\n",
    "            return False\n",
    "    return True\n",
    "\n",
    "range_start = int(input('Enter the starting number of the range: '))\n",
    "range_end = int(input('Enter the ending number of the range: '))\n",
    "\n",
    "numbers_dict = {'prime': [], 'non-prime': []}\n",
    "\n",
    "for num in range(range_start, range_end + 1):\n",
    "    if is_prime(num):\n",
    "        numbers_dict['prime'].append(num)\n",
    "    else:\n",
    "        numbers_dict['non-prime'].append(num)\n",
    "\n",
    "print(numbers_dict)\n"
   ]
  },
  {
   "cell_type": "markdown",
   "id": "6c287be1",
   "metadata": {},
   "source": [
    "# Use the function created in Q4 and create a dictionary where keys are 'prime' and 'non-prime' and values are count of prime numbers and non-prime numbers respectively."
   ]
  },
  {
   "cell_type": "code",
   "execution_count": 158,
   "id": "483495ee",
   "metadata": {},
   "outputs": [
    {
     "name": "stdout",
     "output_type": "stream",
     "text": [
      "{'prime': 4, 'non-prime': 6}\n"
     ]
    }
   ],
   "source": [
    "def is_prime(number):\n",
    "    if number < 2:\n",
    "        return False\n",
    "    for i in range(2, number):\n",
    "        if number % i == 0:\n",
    "            return False\n",
    "    return True\n",
    "\n",
    "numbers = [1, 2, 3, 4, 5, 6, 7, 8, 9, 10]\n",
    "\n",
    "count_dict = {'prime': 0, 'non-prime': 0}\n",
    "\n",
    "for num in numbers:\n",
    "    if is_prime(num):\n",
    "        count_dict['prime'] += 1\n",
    "    else:\n",
    "        count_dict['non-prime'] += 1\n",
    "\n",
    "print(count_dict)\n"
   ]
  },
  {
   "cell_type": "markdown",
   "id": "94999ebd",
   "metadata": {},
   "source": [
    "# Divide the each number by 5, round the result to 2 decimal places"
   ]
  },
  {
   "cell_type": "code",
   "execution_count": 160,
   "id": "946cbbe3",
   "metadata": {},
   "outputs": [
    {
     "name": "stdout",
     "output_type": "stream",
     "text": [
      "[2.0, 2.2, 4.0, 4.4, 6.0]\n"
     ]
    }
   ],
   "source": [
    "numbers = [10, 11, 20, 22, 30]\n",
    "\n",
    "result = [round(num / 5, 2) for num in numbers]\n",
    "\n",
    "print(result)\n"
   ]
  },
  {
   "cell_type": "markdown",
   "id": "6aeeff12",
   "metadata": {},
   "source": [
    "# a. alternate number"
   ]
  },
  {
   "cell_type": "code",
   "execution_count": 38,
   "id": "007d87a4",
   "metadata": {},
   "outputs": [
    {
     "data": {
      "text/plain": [
       "[12, 3, 1, 7, 90]"
      ]
     },
     "execution_count": 38,
     "metadata": {},
     "output_type": "execute_result"
    }
   ],
   "source": [
    "q=[12, 21, 3, 4, 1, 61, 7, 80, 90, 10]\n",
    "for_alt_num=[]\n",
    "for i in range(len(q)):\n",
    "    if i%2==0:\n",
    "        for_alt_num.append(q[i])\n",
    "for_alt_num        "
   ]
  },
  {
   "cell_type": "code",
   "execution_count": 2,
   "id": "d0d08da4",
   "metadata": {
    "scrolled": true
   },
   "outputs": [
    {
     "data": {
      "text/plain": [
       "[12, 3, 1, 7, 90]"
      ]
     },
     "execution_count": 2,
     "metadata": {},
     "output_type": "execute_result"
    }
   ],
   "source": [
    "for_alt_num=[]\n",
    "for i,num in (enumerate(q)):\n",
    "    if i%2==0:\n",
    "        for_alt_num.append(num)\n",
    "for_alt_num        "
   ]
  },
  {
   "cell_type": "code",
   "execution_count": 3,
   "id": "8f9cbbdd",
   "metadata": {},
   "outputs": [
    {
     "data": {
      "text/plain": [
       "[12, 3, 1, 7, 90]"
      ]
     },
     "execution_count": 3,
     "metadata": {},
     "output_type": "execute_result"
    }
   ],
   "source": [
    "lc_alt_num=[q[i] for i in range (len(q)) if i%2==0]\n",
    "lc_alt_num"
   ]
  },
  {
   "cell_type": "code",
   "execution_count": 4,
   "id": "c6846e6f",
   "metadata": {},
   "outputs": [
    {
     "data": {
      "text/plain": [
       "[12, 3, 1, 7, 90]"
      ]
     },
     "execution_count": 4,
     "metadata": {},
     "output_type": "execute_result"
    }
   ],
   "source": [
    "ld_alt_num=list(filter(lambda x : q.index(x)%2==0,q))\n",
    "ld_alt_num"
   ]
  },
  {
   "cell_type": "markdown",
   "id": "ff1347aa",
   "metadata": {},
   "source": [
    "# b. only even numbers"
   ]
  },
  {
   "cell_type": "code",
   "execution_count": 5,
   "id": "538c9217",
   "metadata": {
    "scrolled": true
   },
   "outputs": [
    {
     "data": {
      "text/plain": [
       "[12, 4, 80, 90, 10]"
      ]
     },
     "execution_count": 5,
     "metadata": {},
     "output_type": "execute_result"
    }
   ],
   "source": [
    "for_eve_num=[]\n",
    "for i in q:\n",
    "    if i%2==0:\n",
    "        for_eve_num.append(i)\n",
    "for_eve_num        "
   ]
  },
  {
   "cell_type": "code",
   "execution_count": 6,
   "id": "05915a8b",
   "metadata": {},
   "outputs": [
    {
     "data": {
      "text/plain": [
       "[12, 4, 80, 90, 10]"
      ]
     },
     "execution_count": 6,
     "metadata": {},
     "output_type": "execute_result"
    }
   ],
   "source": [
    "lc_eve_num=[i for i in q if i%2==0]\n",
    "lc_eve_num"
   ]
  },
  {
   "cell_type": "code",
   "execution_count": 7,
   "id": "3e471e03",
   "metadata": {},
   "outputs": [
    {
     "data": {
      "text/plain": [
       "[12, 4, 80, 90, 10]"
      ]
     },
     "execution_count": 7,
     "metadata": {},
     "output_type": "execute_result"
    }
   ],
   "source": [
    "ld_eve_num=list(filter(lambda x : x%2==0, q))\n",
    "ld_eve_num"
   ]
  },
  {
   "cell_type": "markdown",
   "id": "82588a1b",
   "metadata": {},
   "source": [
    "# c. numbers greater than 5"
   ]
  },
  {
   "cell_type": "code",
   "execution_count": 8,
   "id": "deb9a1ff",
   "metadata": {},
   "outputs": [
    {
     "data": {
      "text/plain": [
       "[12, 21, 61, 7, 80, 90, 10]"
      ]
     },
     "execution_count": 8,
     "metadata": {},
     "output_type": "execute_result"
    }
   ],
   "source": [
    "for_gre_num5=[]\n",
    "for i in q:\n",
    "    if i>5:\n",
    "        for_gre_num5.append(i)\n",
    "for_gre_num5        "
   ]
  },
  {
   "cell_type": "code",
   "execution_count": 9,
   "id": "ecae1b2a",
   "metadata": {},
   "outputs": [
    {
     "data": {
      "text/plain": [
       "[12, 21, 61, 7, 80, 90, 10]"
      ]
     },
     "execution_count": 9,
     "metadata": {},
     "output_type": "execute_result"
    }
   ],
   "source": [
    "lc_gre_num5=[i for i in q if i>5]\n",
    "lc_gre_num5"
   ]
  },
  {
   "cell_type": "code",
   "execution_count": 10,
   "id": "2f83a923",
   "metadata": {},
   "outputs": [
    {
     "data": {
      "text/plain": [
       "[12, 21, 61, 7, 80, 90, 10]"
      ]
     },
     "execution_count": 10,
     "metadata": {},
     "output_type": "execute_result"
    }
   ],
   "source": [
    "ld_gre_num5=list(filter(lambda x: x>5, q))\n",
    "ld_gre_num5"
   ]
  },
  {
   "cell_type": "markdown",
   "id": "67c1be3d",
   "metadata": {},
   "source": [
    "# d. numbers divible by 4"
   ]
  },
  {
   "cell_type": "code",
   "execution_count": 11,
   "id": "640e3aea",
   "metadata": {},
   "outputs": [
    {
     "data": {
      "text/plain": [
       "[12, 4, 80]"
      ]
     },
     "execution_count": 11,
     "metadata": {},
     "output_type": "execute_result"
    }
   ],
   "source": [
    "for_div_num4=[]\n",
    "for i in q:\n",
    "    if i%4==0:\n",
    "        for_div_num4.append(i)\n",
    "for_div_num4    "
   ]
  },
  {
   "cell_type": "code",
   "execution_count": 12,
   "id": "28abde5a",
   "metadata": {},
   "outputs": [
    {
     "data": {
      "text/plain": [
       "[12, 4, 80]"
      ]
     },
     "execution_count": 12,
     "metadata": {},
     "output_type": "execute_result"
    }
   ],
   "source": [
    "lc_div_num4=[i for i in q if i%4==0]\n",
    "lc_div_num4"
   ]
  },
  {
   "cell_type": "code",
   "execution_count": 14,
   "id": "01797e23",
   "metadata": {},
   "outputs": [
    {
     "data": {
      "text/plain": [
       "[12, 4, 80]"
      ]
     },
     "execution_count": 14,
     "metadata": {},
     "output_type": "execute_result"
    }
   ],
   "source": [
    "ld_div_num4=list(filter(lambda x:x%4==0,q))\n",
    "ld_div_num4"
   ]
  },
  {
   "cell_type": "markdown",
   "id": "3ddd01c2",
   "metadata": {},
   "source": [
    "# Q3.Take the input of Q1 list and create a dictionary \n",
    "a. Key as 1, 2, 3, 4, 5 and values as numbers divible by 1, numbers divible by 2, numbers divible by 3, numbers divible by 4, numbers divible by 5\n",
    "\n",
    "b. Key as 1, 2, 3, 4, 5 and values as count of numbers divible by 1, count of numbers divible by 2, count of numbers divible by 3, count of numbers divible by 4, count of numbers divible by 5"
   ]
  },
  {
   "cell_type": "code",
   "execution_count": 9,
   "id": "01402468",
   "metadata": {},
   "outputs": [
    {
     "data": {
      "text/plain": [
       "{1: [12, 21, 3, 4, 1, 61, 7, 80, 90, 10],\n",
       " 2: [12, 4, 80, 90, 10],\n",
       " 3: [12, 21, 3, 90],\n",
       " 4: [12, 4, 80],\n",
       " 5: [80, 90, 10]}"
      ]
     },
     "execution_count": 9,
     "metadata": {},
     "output_type": "execute_result"
    }
   ],
   "source": [
    "for_div_dic={}\n",
    "for i in range(1,6):\n",
    "    for_div_dic[i]=[]\n",
    "    for num in q:\n",
    "        if num%i==0:\n",
    "            for_div_dic[i].append(num)\n",
    "for_div_dic            \n",
    "    "
   ]
  },
  {
   "cell_type": "code",
   "execution_count": 14,
   "id": "8736f93d",
   "metadata": {},
   "outputs": [
    {
     "data": {
      "text/plain": [
       "{1: [12, 21, 3, 4, 1, 61, 7, 80, 90, 10],\n",
       " 2: [12, 4, 80, 90, 10],\n",
       " 3: [12, 21, 3, 90],\n",
       " 4: [12, 4, 80],\n",
       " 5: [80, 90, 10]}"
      ]
     },
     "execution_count": 14,
     "metadata": {},
     "output_type": "execute_result"
    }
   ],
   "source": [
    "d={}\n",
    "for i in range (1,6):\n",
    "    d[i]=[num for num in q if num%i==0]\n",
    "d    "
   ]
  },
  {
   "cell_type": "code",
   "execution_count": 11,
   "id": "5d0d86ac",
   "metadata": {},
   "outputs": [
    {
     "data": {
      "text/plain": [
       "{1: [12, 21, 3, 4, 1, 61, 7, 80, 90, 10],\n",
       " 2: [12, 4, 80, 90, 10],\n",
       " 3: [12, 21, 3, 90],\n",
       " 4: [12, 4, 80],\n",
       " 5: [80, 90, 10]}"
      ]
     },
     "execution_count": 11,
     "metadata": {},
     "output_type": "execute_result"
    }
   ],
   "source": [
    "lc_div_dic={i:[num for num in q if num%i==0 ] for i in range(1,6)}\n",
    "lc_div_dic"
   ]
  },
  {
   "cell_type": "code",
   "execution_count": 12,
   "id": "2ea75e37",
   "metadata": {
    "scrolled": true
   },
   "outputs": [
    {
     "data": {
      "text/plain": [
       "{1: [12, 21, 3, 4, 1, 61, 7, 80, 90, 10],\n",
       " 2: [12, 4, 80, 90, 10],\n",
       " 3: [12, 21, 3, 90],\n",
       " 4: [12, 4, 80],\n",
       " 5: [80, 90, 10]}"
      ]
     },
     "execution_count": 12,
     "metadata": {},
     "output_type": "execute_result"
    }
   ],
   "source": [
    "ld_div_dic={i : list(filter(lambda x : x%i==0, q))for i in range(1,6)}\n",
    "ld_div_dic"
   ]
  },
  {
   "cell_type": "markdown",
   "id": "b7f3aed7",
   "metadata": {},
   "source": [
    "# b. Key as 1, 2, 3, 4, 5 and values as count of numbers divible by 1, count of numbers divible by 2, count of numbers divible by 3, count of numbers divible by 4, count of numbers divible by 5"
   ]
  },
  {
   "cell_type": "code",
   "execution_count": 51,
   "id": "c5812641",
   "metadata": {},
   "outputs": [
    {
     "data": {
      "text/plain": [
       "{1: 10, 2: 5, 3: 4, 4: 3, 5: 3}"
      ]
     },
     "execution_count": 51,
     "metadata": {},
     "output_type": "execute_result"
    }
   ],
   "source": [
    "q=[12, 21, 3, 4, 1, 61, 7, 80, 90, 10]\n",
    "for_div_count={}\n",
    "for i in range(1,6):\n",
    "    for_div_count[i]=[]\n",
    "    for num in q:\n",
    "        if num%i==0:\n",
    "            for_div_count[i].append(num)\n",
    "for_div_count={key:len(values) for key, values in for_div_count.items()}\n",
    "for_div_count"
   ]
  },
  {
   "cell_type": "code",
   "execution_count": 57,
   "id": "eb244ade",
   "metadata": {},
   "outputs": [
    {
     "data": {
      "text/plain": [
       "{1: 10, 2: 5, 3: 4, 4: 3, 5: 3}"
      ]
     },
     "execution_count": 57,
     "metadata": {},
     "output_type": "execute_result"
    }
   ],
   "source": [
    "q=[12, 21, 3, 4, 1, 61, 7, 80, 90, 10]\n",
    "for_div_count={}\n",
    "for i in range (1,6):\n",
    "    count=0\n",
    "    for num in q:\n",
    "        if num%i==0:\n",
    "            count+=1\n",
    "    for_div_count[i]=count\n",
    "for_div_count        "
   ]
  },
  {
   "cell_type": "code",
   "execution_count": 53,
   "id": "ba0add2c",
   "metadata": {},
   "outputs": [
    {
     "data": {
      "text/plain": [
       "{1: 10, 2: 5, 3: 4, 4: 3, 5: 3}"
      ]
     },
     "execution_count": 53,
     "metadata": {},
     "output_type": "execute_result"
    }
   ],
   "source": [
    "lc_div_count={i: sum(1 for num in q if num%i==0) for i in range(1,6)}\n",
    "lc_div_count"
   ]
  },
  {
   "cell_type": "code",
   "execution_count": 60,
   "id": "b4f41e27",
   "metadata": {},
   "outputs": [
    {
     "data": {
      "text/plain": [
       "{1: 10, 2: 5, 3: 4, 4: 3, 5: 3}"
      ]
     },
     "execution_count": 60,
     "metadata": {},
     "output_type": "execute_result"
    }
   ],
   "source": [
    "ld_div_count={i: sum(map(lambda x: x%i==0,q))for i in range(1,6)}\n",
    "ld_div_count"
   ]
  },
  {
   "cell_type": "markdown",
   "id": "e3d6272f",
   "metadata": {},
   "source": [
    "# Q4. Write a function to check if the given number is prime or not."
   ]
  },
  {
   "cell_type": "code",
   "execution_count": 137,
   "id": "16f6ab44",
   "metadata": {},
   "outputs": [
    {
     "name": "stdout",
     "output_type": "stream",
     "text": [
      "Enter a number: 364\n",
      "Not Prime\n"
     ]
    }
   ],
   "source": [
    "def is_prime(number):\n",
    "    if number < 2:\n",
    "        return 'Not Prime'\n",
    "\n",
    "    for i in range(2, number):\n",
    "        if number % i == 0:\n",
    "            return 'Not Prime'\n",
    "\n",
    "    return 'Prime'\n",
    "number = int(input('Enter a number: '))\n",
    "result = is_prime(number)\n",
    "print(result)"
   ]
  },
  {
   "cell_type": "code",
   "execution_count": 78,
   "id": "4bce8e03",
   "metadata": {},
   "outputs": [
    {
     "name": "stdout",
     "output_type": "stream",
     "text": [
      "Enter a number: 21\n",
      "odd\n"
     ]
    }
   ],
   "source": [
    "def is_even_or_odd(number):\n",
    "    if number % 2 == 0:\n",
    "        return 'even'\n",
    "    else:\n",
    "        return 'odd'\n",
    "\n",
    "number = int(input('Enter a number: '))\n",
    "result = is_even_or_odd(number)\n",
    "print(result)\n"
   ]
  },
  {
   "cell_type": "markdown",
   "id": "b69f9987",
   "metadata": {},
   "source": [
    "Q9. Generate a list with 20 random number between 1 to 100. Display the list in order"
   ]
  },
  {
   "cell_type": "code",
   "execution_count": 161,
   "id": "89e82835",
   "metadata": {},
   "outputs": [
    {
     "name": "stdout",
     "output_type": "stream",
     "text": [
      "[3, 5, 10, 11, 13, 16, 23, 29, 34, 39, 47, 49, 52, 54, 63, 68, 71, 75, 83, 94]\n"
     ]
    }
   ],
   "source": [
    "import random\n",
    "\n",
    "random_numbers = random.sample(range(1, 101), 20)\n",
    "random_numbers.sort()\n",
    "\n",
    "print(random_numbers)\n"
   ]
  },
  {
   "cell_type": "markdown",
   "id": "31ad3ba9",
   "metadata": {},
   "source": [
    "Q10. Find mean, mode and median of the list generated in Q9."
   ]
  },
  {
   "cell_type": "code",
   "execution_count": null,
   "id": "379564be",
   "metadata": {},
   "outputs": [],
   "source": [
    "fib=[0,1]\n",
    "num=int(input('Enter a Number: '))\n",
    "for i in range (2,num):\n",
    "    fib.append(fib[i-1]+fib[i-2])\n",
    "print(fib)\n",
    "\n",
    "num1=input('Enter a Number: ')\n",
    "sum1=0\n",
    "for i in num1:\n",
    "    sum1+=int(i)**len(num1)\n",
    "num1=int(num1)\n",
    "if num1==sum1:\n",
    "    print ('armstrong number')\n",
    "else:\n",
    "    print('not')"
   ]
  },
  {
   "cell_type": "markdown",
   "id": "2475f514",
   "metadata": {},
   "source": [
    "Q11. Generate the frequncy  table for the list generated in Q9."
   ]
  },
  {
   "cell_type": "code",
   "execution_count": 1,
   "id": "23af3a5b",
   "metadata": {},
   "outputs": [
    {
     "name": "stdout",
     "output_type": "stream",
     "text": [
      "['a', 's', 'e', 'r', 't', 'e']\n",
      "aserte\n"
     ]
    },
    {
     "data": {
      "text/plain": [
       "str"
      ]
     },
     "execution_count": 1,
     "metadata": {},
     "output_type": "execute_result"
    }
   ],
   "source": [
    "a=['ase','rte']\n",
    "output = [char for word in a for char in word]\n",
    "print(output)\n",
    "type(output)\n",
    "\n",
    "a = ['ase', 'rte']\n",
    "output = ''.join([char for word in a for char in word])\n",
    "print(output)\n",
    "type(output)"
   ]
  },
  {
   "cell_type": "markdown",
   "id": "77c82b9a",
   "metadata": {},
   "source": [
    "Q12. Generate a list of 7 strings store it as list_word.\n",
    "list_word = ['a','abc','p','pqr','x','xyz','apple','pear']\n",
    "Sort the list with respct to length of the string"
   ]
  },
  {
   "cell_type": "code",
   "execution_count": 3,
   "id": "0d8d79a4",
   "metadata": {},
   "outputs": [
    {
     "name": "stdout",
     "output_type": "stream",
     "text": [
      "['apple', 'pear', 'abc', 'pqr', 'xyz', 'a', 'p', 'x']\n",
      "['apple', 'pear', 'abc', 'pqr', 'xyz', 'a', 'p', 'x']\n"
     ]
    }
   ],
   "source": [
    "list_word = ['a','abc','p','pqr','x','xyz','apple','pear']\n",
    "list_word.sort(key=len,reverse=True)\n",
    "print(list_word)\n",
    "\n",
    "list_word1=sorted(list_word,key=len,reverse=True)\n",
    "print(list_word1)"
   ]
  },
  {
   "cell_type": "markdown",
   "id": "8e788e6b",
   "metadata": {},
   "source": [
    "Q13. Use list_word, display the first letter in capital case."
   ]
  },
  {
   "cell_type": "code",
   "execution_count": 54,
   "id": "c48ab1df",
   "metadata": {},
   "outputs": [
    {
     "name": "stdout",
     "output_type": "stream",
     "text": [
      "['A', 'Abc', 'P', 'Pqr', 'X', 'Xyz', 'Apple', 'Pear']\n"
     ]
    },
    {
     "data": {
      "text/plain": [
       "'Stronr'"
      ]
     },
     "execution_count": 54,
     "metadata": {},
     "output_type": "execute_result"
    }
   ],
   "source": [
    "list_word = ['a', 'abc', 'p', 'pqr', 'x', 'xyz', 'apple', 'pear']\n",
    "capitalized_list = [word.capitalize() for word in list_word]\n",
    "print(capitalized_list)\n",
    "\n",
    "\n",
    "a='stronr'\n",
    "b=a.capitalize()\n",
    "b"
   ]
  },
  {
   "cell_type": "markdown",
   "id": "2daf5655",
   "metadata": {},
   "source": [
    "Q14. Sort list_word with respect to last letter"
   ]
  },
  {
   "cell_type": "code",
   "execution_count": 57,
   "id": "f36c69c0",
   "metadata": {},
   "outputs": [
    {
     "data": {
      "text/plain": [
       "['yyza', 'xyza', 'pea', 'abc', 'apple', 'pop', 'pqr', 'x']"
      ]
     },
     "execution_count": 57,
     "metadata": {},
     "output_type": "execute_result"
    }
   ],
   "source": [
    "list_word = ['yyza','abc','pop','pqr','x','xyza','apple','pea']\n",
    "list_word1=sorted(list_word, key=lambda x:x[-1])\n",
    "list_word1"
   ]
  },
  {
   "cell_type": "markdown",
   "id": "b558c480",
   "metadata": {},
   "source": [
    "Q15. Create a list of word lengths of list_word. a. Use loop b. Use list comprehension"
   ]
  },
  {
   "cell_type": "code",
   "execution_count": 60,
   "id": "3cdea495",
   "metadata": {},
   "outputs": [
    {
     "name": "stdout",
     "output_type": "stream",
     "text": [
      "[4, 3, 1, 3, 1, 3, 5, 4]\n"
     ]
    },
    {
     "data": {
      "text/plain": [
       "8"
      ]
     },
     "execution_count": 60,
     "metadata": {},
     "output_type": "execute_result"
    }
   ],
   "source": [
    "list_word = ['abcd', 'abc', 'p', 'pqr', 'x', 'xyz', 'apple', 'pear']\n",
    "word_lengths = [len(word) for word in list_word]\n",
    "print(word_lengths)\n",
    "len(list_word)"
   ]
  },
  {
   "cell_type": "code",
   "execution_count": 84,
   "id": "00cde6d4",
   "metadata": {},
   "outputs": [
    {
     "data": {
      "text/plain": [
       "[4, 3, 1, 3, 1, 3, 5, 4]"
      ]
     },
     "execution_count": 84,
     "metadata": {},
     "output_type": "execute_result"
    }
   ],
   "source": [
    "l=[]\n",
    "list_word = ['abcd', 'abc', 'p', 'pqr', 'x', 'xyz', 'apple', 'pear']\n",
    "for word in list_word:\n",
    "    count = len(word)\n",
    "    l.append(count)\n",
    "l    \n"
   ]
  },
  {
   "cell_type": "markdown",
   "id": "06d709f9",
   "metadata": {},
   "source": [
    "Q16. Create a dictionary with word length as key and list of words with same length as values."
   ]
  },
  {
   "cell_type": "code",
   "execution_count": 91,
   "id": "8719ba4e",
   "metadata": {},
   "outputs": [
    {
     "name": "stdout",
     "output_type": "stream",
     "text": [
      "{4: ['abcd', 'pear'], 3: ['abc', 'pqr', 'xyz'], 1: ['p', 'x'], 5: ['apple']}\n"
     ]
    }
   ],
   "source": [
    "d = {}\n",
    "list_word = ['abcd', 'abc', 'p', 'pqr', 'x', 'xyz', 'apple', 'pear']\n",
    "\n",
    "for word in list_word:\n",
    "    count = len(word)\n",
    "    if count in d:\n",
    "        d[count].append(word)\n",
    "    else:\n",
    "        d[count] = [word]\n",
    "print(d)"
   ]
  },
  {
   "cell_type": "markdown",
   "id": "e6d9a98d",
   "metadata": {},
   "source": [
    "Q17. Filter the words with length more than 1"
   ]
  },
  {
   "cell_type": "code",
   "execution_count": 92,
   "id": "a977cd04",
   "metadata": {},
   "outputs": [
    {
     "name": "stdout",
     "output_type": "stream",
     "text": [
      "['abc', 'pqr', 'xyz', 'apple', 'pear']\n"
     ]
    }
   ],
   "source": [
    "list_word = ['a', 'abc', 'p', 'pqr', 'x', 'xyz', 'apple', 'pear']\n",
    "\n",
    "filtered_words = [word for word in list_word if len(word) > 1]\n",
    "\n",
    "print(filtered_words)\n"
   ]
  },
  {
   "cell_type": "markdown",
   "id": "6b82f5f9",
   "metadata": {},
   "source": [
    "Q18. Consider the below list list_2 = ['Cherry' , 'Banana' , 'Apple' , 'Mango' , 'Pear']. Find out the common elements of list_word and list_2. \n",
    "\n",
    "a. Use loops \n",
    "\n",
    "b. Use sets \n",
    "\n",
    "c. Use lambda function  "
   ]
  },
  {
   "cell_type": "code",
   "execution_count": 161,
   "id": "89dcd224",
   "metadata": {},
   "outputs": [
    {
     "name": "stdout",
     "output_type": "stream",
     "text": [
      "pear\n",
      "---------------------------------------------------------------------------------------------------- \n",
      "lowercase convert\n",
      "apple\n",
      "pear\n",
      "----------------------------------------------------------------------------------------------------\n",
      "method-2 - using sets\n",
      "{'pear', 'apple'}\n",
      "----------------------------------------------------------------------------------------------------\n",
      "method-3 - using lambda function\n"
     ]
    },
    {
     "data": {
      "text/plain": [
       "['Apple', 'Pear']"
      ]
     },
     "execution_count": 161,
     "metadata": {},
     "output_type": "execute_result"
    }
   ],
   "source": [
    "list_1 = ['a', 'abc', 'p', 'pqr', 'x', 'xyz', 'apple', 'pear']\n",
    "list_2 = ['Cherry' , 'Banana' , 'Apple' , 'Mango' , 'Pear']\n",
    "for i in list_1:\n",
    "    for j in list_2:\n",
    "        if i==j:\n",
    "            print(i)\n",
    "print(i)\n",
    "\n",
    "print('-'*100 ,'\\nlowercase convert')\n",
    "\n",
    "\n",
    "list_1 = ['a', 'abc', 'p', 'pqr', 'x', 'xyz', 'apple', 'pear']\n",
    "list_2 = ['Cherry' , 'Banana' , 'Apple' , 'Mango' , 'Pear']\n",
    "for i in list_1:\n",
    "    for j in list_2:\n",
    "        if i==j.lower():\n",
    "            print(i)\n",
    "print('-'*100)\n",
    "\n",
    "\n",
    "print('method-2 - using sets')\n",
    "list_1 = ['a', 'abc', 'p', 'pqr', 'x', 'xyz', 'apple', 'pear']\n",
    "list_2 = ['Cherry', 'Banana', 'Apple', 'Mango', 'Pear']\n",
    "\n",
    "s1 = set(list_1)\n",
    "s2 = set(word.lower() for word in list_2)\n",
    "s3 = s1.intersection(s2)\n",
    "print(s3)\n",
    "\n",
    "print('-'*100)\n",
    "\n",
    "\n",
    "print('method-3 - using lambda function')\n",
    "a=[i for i in filter(lambda x:x.lower() in list_1 , list_2)]\n",
    "a"
   ]
  },
  {
   "cell_type": "markdown",
   "id": "173e7b01",
   "metadata": {},
   "source": [
    "Q19. For every word in list_2 replace each letter by its next letter. Letters at odd places should be replaced as capital letters. "
   ]
  },
  {
   "cell_type": "code",
   "execution_count": 164,
   "id": "1a69e255",
   "metadata": {},
   "outputs": [
    {
     "name": "stdout",
     "output_type": "stream",
     "text": [
      "{'abc', 'p', 'pqr', 'x', 'a', 'xyz'}\n",
      "----------------------------------------------------------------------------------------------------\n",
      "method-2 - using difference\n",
      "{'abc', 'p', 'pqr', 'x', 'a', 'xyz'}\n"
     ]
    }
   ],
   "source": [
    "list_1 = ['a', 'abc', 'p', 'pqr', 'x', 'xyz', 'apple', 'pear']\n",
    "list_2 = ['Cherry' , 'Banana' , 'Apple' , 'Mango' , 'Pear']\n",
    "s1=set(list_1)            \n",
    "s2=set(word.lower() for word in list_2)            \n",
    "s1.difference_update(s2)\n",
    "print(s1)\n",
    "\n",
    "print('-'*100)\n",
    "\n",
    "\n",
    "print('method-2 - using difference')\n",
    "s1 = set(list_1)\n",
    "s2 = set(word.lower() for word in list_2)\n",
    "s3 = s1.difference(s2)\n",
    "\n",
    "print(s3)"
   ]
  },
  {
   "cell_type": "markdown",
   "id": "b9ea4b50",
   "metadata": {},
   "source": [
    "Q21. Find out unique letters used in list_2"
   ]
  },
  {
   "cell_type": "code",
   "execution_count": 165,
   "id": "d2be26a1",
   "metadata": {},
   "outputs": [
    {
     "name": "stdout",
     "output_type": "stream",
     "text": [
      "{'h', 'r', 'p', 'n', 'g', 'y', 'e', 'l', 'c', 'm', 'a', 'b', 'o'}\n"
     ]
    }
   ],
   "source": [
    "list_2 = ['Cherry', 'Banana', 'Apple', 'Mango', 'Pear']\n",
    "\n",
    "unique_letters = set()\n",
    "\n",
    "for word in list_2:\n",
    "    for letter in word.lower():\n",
    "        unique_letters.add(letter)\n",
    "\n",
    "print(unique_letters)\n"
   ]
  },
  {
   "cell_type": "code",
   "execution_count": 10,
   "id": "041daa8a",
   "metadata": {},
   "outputs": [
    {
     "data": {
      "text/plain": [
       "{'a', 'b', 'c', 'e', 'g', 'h', 'l', 'm', 'n', 'o', 'p', 'r', 'y'}"
      ]
     },
     "execution_count": 10,
     "metadata": {},
     "output_type": "execute_result"
    }
   ],
   "source": [
    "list_2 = ['Cherry', 'Banana', 'Apple', 'Mango', 'Pear']\n",
    "list_2=''.join(list_2)\n",
    "list_2=list_2.lower()\n",
    "set2=set(list_2)\n",
    "set2"
   ]
  },
  {
   "cell_type": "markdown",
   "id": "6a408115",
   "metadata": {},
   "source": [
    "Q22. Display the words in the list_2 eliminating vowels."
   ]
  },
  {
   "cell_type": "code",
   "execution_count": 14,
   "id": "a1d5522c",
   "metadata": {},
   "outputs": [],
   "source": [
    "li=[]\n",
    "for word in list_2:\n",
    "    modified_word=''\n",
    "    for letter in word:\n",
    "        if letter.lower() not in 'aeiou':\n",
    "            modified_word+=letter\n",
    "    li.append(modified_word)\n",
    "        "
   ]
  },
  {
   "cell_type": "code",
   "execution_count": null,
   "id": "9c9a449d",
   "metadata": {},
   "outputs": [],
   "source": []
  },
  {
   "cell_type": "markdown",
   "id": "4ac1f4ed",
   "metadata": {},
   "source": [
    "Q23. Create a list of words with reverse order with words in the list_2"
   ]
  },
  {
   "cell_type": "code",
   "execution_count": 228,
   "id": "e314142d",
   "metadata": {},
   "outputs": [
    {
     "name": "stdout",
     "output_type": "stream",
     "text": [
      "Pr\n"
     ]
    }
   ],
   "source": [
    "for word in list_2:\n",
    "    modified_word=''\n",
    "    for letter in word:\n",
    "        if letter.lower() not in 'aeiou':\n",
    "            modified_word+=letter\n",
    "            modified_word\n",
    "print(modified_word)        "
   ]
  },
  {
   "cell_type": "code",
   "execution_count": null,
   "id": "80fac04f",
   "metadata": {},
   "outputs": [],
   "source": []
  },
  {
   "cell_type": "code",
   "execution_count": 3,
   "id": "c0ab630c",
   "metadata": {},
   "outputs": [
    {
     "data": {
      "text/plain": [
       "[2, 3, 5, 7, 8]"
      ]
     },
     "execution_count": 3,
     "metadata": {},
     "output_type": "execute_result"
    }
   ],
   "source": [
    "l1=[2,3,5]\n",
    "l2=[5,7,8]\n",
    "l1=set(l1)\n",
    "l2=set(l2)\n",
    "l3=l1.union(l2)\n",
    "l3=list(l3)\n",
    "l3"
   ]
  },
  {
   "cell_type": "code",
   "execution_count": 7,
   "id": "f3cb8faa",
   "metadata": {},
   "outputs": [
    {
     "data": {
      "text/plain": [
       "[2, 3, 5, 7, 8]"
      ]
     },
     "execution_count": 7,
     "metadata": {},
     "output_type": "execute_result"
    }
   ],
   "source": [
    "l1=[2,3,5]\n",
    "l2=[5,7,8]\n",
    "l3=[]\n",
    "for i in l2:\n",
    "    if i not in l1:\n",
    "        l1.append(i)\n",
    "l1    "
   ]
  },
  {
   "cell_type": "code",
   "execution_count": 36,
   "id": "03621290",
   "metadata": {},
   "outputs": [
    {
     "data": {
      "text/plain": [
       "'jain harshal'"
      ]
     },
     "execution_count": 36,
     "metadata": {},
     "output_type": "execute_result"
    }
   ],
   "source": [
    "a='harshal jain'\n",
    "b=a.split()\n",
    "b=list(reversed(b))\n",
    "b=' ' .join(b)\n",
    "b"
   ]
  },
  {
   "cell_type": "code",
   "execution_count": 37,
   "id": "2de7f4d7",
   "metadata": {},
   "outputs": [
    {
     "data": {
      "text/plain": [
       "'jain harshal'"
      ]
     },
     "execution_count": 37,
     "metadata": {},
     "output_type": "execute_result"
    }
   ],
   "source": [
    "a = 'harshal jain'\n",
    "b = a[a.index(' ') + 1:] + ' ' + a[:a.index(' ')]\n",
    "b"
   ]
  },
  {
   "cell_type": "code",
   "execution_count": 17,
   "id": "fb2746dd",
   "metadata": {},
   "outputs": [
    {
     "data": {
      "text/plain": [
       "'jain harshal'"
      ]
     },
     "execution_count": 17,
     "metadata": {},
     "output_type": "execute_result"
    }
   ],
   "source": [
    "a='harshal jain'\n",
    "b=a.split()\n",
    "b = ' '.join(b[::-1])\n",
    "b"
   ]
  },
  {
   "cell_type": "code",
   "execution_count": 22,
   "id": "0e2fb5b7",
   "metadata": {},
   "outputs": [
    {
     "data": {
      "text/plain": [
       "'jain harshal'"
      ]
     },
     "execution_count": 22,
     "metadata": {},
     "output_type": "execute_result"
    }
   ],
   "source": [
    "a='harshal jain'\n",
    "b=a.split()\n",
    "c=b[::-1]\n",
    "' ' .join(c)"
   ]
  },
  {
   "cell_type": "code",
   "execution_count": 44,
   "id": "bb8ad751",
   "metadata": {},
   "outputs": [
    {
     "data": {
      "text/plain": [
       "'123242'"
      ]
     },
     "execution_count": 44,
     "metadata": {},
     "output_type": "execute_result"
    }
   ],
   "source": [
    "a=['12','32','42']\n",
    "b= '' .join(a)\n",
    "b"
   ]
  },
  {
   "cell_type": "code",
   "execution_count": null,
   "id": "cc17b1d2",
   "metadata": {},
   "outputs": [],
   "source": []
  },
  {
   "cell_type": "markdown",
   "id": "9a304dd9",
   "metadata": {},
   "source": [
    "## Complexity level - Medium"
   ]
  },
  {
   "cell_type": "markdown",
   "id": "94f56c44",
   "metadata": {},
   "source": [
    "Q1. For any given string find out, is it a palindrome"
   ]
  },
  {
   "cell_type": "code",
   "execution_count": 3,
   "id": "125f295a",
   "metadata": {},
   "outputs": [
    {
     "name": "stdout",
     "output_type": "stream",
     "text": [
      "Enter a String: Asdfgh\n",
      "is not a palindrome\n"
     ]
    }
   ],
   "source": [
    "str1=input('Enter a String: ')\n",
    "str1=str1.lower()\n",
    "str2=str1[::-1]\n",
    "if str1==str2:\n",
    "    print('it is a palindrome')\n",
    "else:\n",
    "    print('is not a palindrome')"
   ]
  },
  {
   "cell_type": "markdown",
   "id": "6775b511",
   "metadata": {},
   "source": [
    "Q2. Reverse the given number. "
   ]
  },
  {
   "cell_type": "code",
   "execution_count": 9,
   "id": "4bee0934",
   "metadata": {},
   "outputs": [
    {
     "name": "stdout",
     "output_type": "stream",
     "text": [
      "Enter a Number1997\n"
     ]
    },
    {
     "data": {
      "text/plain": [
       "7991"
      ]
     },
     "execution_count": 9,
     "metadata": {},
     "output_type": "execute_result"
    }
   ],
   "source": [
    "num=int(input('Enter a Number'))\n",
    "num=str(num)\n",
    "num=num[::-1]\n",
    "num1=int(num)\n",
    "num1"
   ]
  },
  {
   "cell_type": "markdown",
   "id": "4f94eaca",
   "metadata": {},
   "source": [
    "Q6. Generate 2 random numbers and display product of their common factors?"
   ]
  },
  {
   "cell_type": "code",
   "execution_count": 1,
   "id": "7fc926c8",
   "metadata": {},
   "outputs": [],
   "source": [
    "l1=['a','b','c']\n",
    "l2=['d','e','f']\n",
    "c.extend(d)"
   ]
  },
  {
   "cell_type": "markdown",
   "id": "f00d1505",
   "metadata": {},
   "source": [
    "Q7. Create the following series 0,1,3,6,10,15......\n",
    "\n",
    "1. Accept a number n from the user and check is it part of the series\n",
    "\n",
    "2. Accept a number n from the user and generate nth number of the series"
   ]
  },
  {
   "cell_type": "code",
   "execution_count": 51,
   "id": "810cea2c",
   "metadata": {},
   "outputs": [],
   "source": [
    "def rev(s):\n",
    "    result=''\n",
    "    for i in s:\n",
    "        result=i+result\n",
    "    return result\n",
    "s='harshal'\n",
    "rev(s)"
   ]
  },
  {
   "cell_type": "code",
   "execution_count": 10,
   "id": "5c9f81af",
   "metadata": {},
   "outputs": [
    {
     "data": {
      "text/plain": [
       "'rakidlaj'"
      ]
     },
     "execution_count": 10,
     "metadata": {},
     "output_type": "execute_result"
    }
   ],
   "source": [
    "a='jaldikar'\n",
    "b=''.join(reversed(a))\n",
    "b"
   ]
  },
  {
   "cell_type": "code",
   "execution_count": 43,
   "id": "1bb9e692",
   "metadata": {},
   "outputs": [],
   "source": [
    "s='wh*r* *s m*'\n",
    "s=list(s)\n",
    "z='eeiy'\n",
    "z=list(z)\n",
    "e=[]\n",
    "# for i,a in enumerate(s):\n",
    "#     if a=='*':\n",
    "#         e.append(i)\n",
    "# for i in range() : \n",
    "#     s.insert(e[i],z[i])\n",
    "# s    "
   ]
  },
  {
   "cell_type": "code",
   "execution_count": 45,
   "id": "de0354d9",
   "metadata": {},
   "outputs": [
    {
     "ename": "IndexError",
     "evalue": "list index out of range",
     "output_type": "error",
     "traceback": [
      "\u001b[1;31m---------------------------------------------------------------------------\u001b[0m",
      "\u001b[1;31mIndexError\u001b[0m                                Traceback (most recent call last)",
      "\u001b[1;32m~\\AppData\\Local\\Temp\\ipykernel_372\\1715095524.py\u001b[0m in \u001b[0;36m<module>\u001b[1;34m\u001b[0m\n\u001b[0;32m      7\u001b[0m     \u001b[1;32mif\u001b[0m \u001b[0mi\u001b[0m\u001b[1;33m!=\u001b[0m\u001b[1;34m'*'\u001b[0m\u001b[1;33m:\u001b[0m\u001b[1;33m\u001b[0m\u001b[1;33m\u001b[0m\u001b[0m\n\u001b[0;32m      8\u001b[0m         \u001b[1;32mfor\u001b[0m \u001b[0mj\u001b[0m \u001b[1;32min\u001b[0m \u001b[0mrange\u001b[0m \u001b[1;33m(\u001b[0m\u001b[0mlen\u001b[0m\u001b[1;33m(\u001b[0m\u001b[0ms\u001b[0m\u001b[1;33m)\u001b[0m\u001b[1;33m)\u001b[0m\u001b[1;33m:\u001b[0m\u001b[1;33m\u001b[0m\u001b[1;33m\u001b[0m\u001b[0m\n\u001b[1;32m----> 9\u001b[1;33m             \u001b[0mc\u001b[0m\u001b[1;33m.\u001b[0m\u001b[0minsert\u001b[0m\u001b[1;33m(\u001b[0m\u001b[0ma\u001b[0m\u001b[1;33m[\u001b[0m\u001b[0mj\u001b[0m\u001b[1;33m]\u001b[0m\u001b[1;33m,\u001b[0m\u001b[0mb\u001b[0m\u001b[1;33m[\u001b[0m\u001b[0mj\u001b[0m\u001b[1;33m]\u001b[0m\u001b[1;33m)\u001b[0m\u001b[1;33m\u001b[0m\u001b[1;33m\u001b[0m\u001b[0m\n\u001b[0m\u001b[0;32m     10\u001b[0m \u001b[0mc\u001b[0m\u001b[1;33m\u001b[0m\u001b[1;33m\u001b[0m\u001b[0m\n",
      "\u001b[1;31mIndexError\u001b[0m: list index out of range"
     ]
    }
   ],
   "source": [
    "a=[]\n",
    "b=[]\n",
    "c=[]\n",
    "for num, i in enumerate(s):\n",
    "    if i=='*':\n",
    "        a.append(num)\n",
    "        b.append(i)\n",
    "        for j in range (len(s)):\n",
    "            s.insert(a[j],b[j])\n",
    "c            "
   ]
  },
  {
   "cell_type": "code",
   "execution_count": 19,
   "id": "0d11fa77",
   "metadata": {},
   "outputs": [
    {
     "data": {
      "text/plain": [
       "'y'"
      ]
     },
     "execution_count": 19,
     "metadata": {},
     "output_type": "execute_result"
    }
   ],
   "source": [
    "z[i]"
   ]
  },
  {
   "cell_type": "code",
   "execution_count": 46,
   "id": "f4d4fba0",
   "metadata": {},
   "outputs": [
    {
     "data": {
      "text/plain": [
       "['w', 'h', '*', 'r', '*', ' ', '*', 's', ' ', 'm', '*']"
      ]
     },
     "execution_count": 46,
     "metadata": {},
     "output_type": "execute_result"
    }
   ],
   "source": [
    "s"
   ]
  },
  {
   "cell_type": "code",
   "execution_count": 64,
   "id": "b571af63",
   "metadata": {},
   "outputs": [
    {
     "data": {
      "text/plain": [
       "[0, 1, 2]"
      ]
     },
     "execution_count": 64,
     "metadata": {},
     "output_type": "execute_result"
    }
   ],
   "source": [
    "e"
   ]
  },
  {
   "cell_type": "code",
   "execution_count": 39,
   "id": "781643d0",
   "metadata": {},
   "outputs": [
    {
     "data": {
      "text/plain": [
       "['w', 'h', '*', 'r', '*', ' ', '*', 's', ' ', 'm', '*']"
      ]
     },
     "execution_count": 39,
     "metadata": {},
     "output_type": "execute_result"
    }
   ],
   "source": [
    "\n",
    "for j in range(len(e)): \n",
    "    s.insert(e[j],z[j])\n",
    "s    "
   ]
  },
  {
   "cell_type": "code",
   "execution_count": 32,
   "id": "7a9c421d",
   "metadata": {},
   "outputs": [
    {
     "data": {
      "text/plain": [
       "0"
      ]
     },
     "execution_count": 32,
     "metadata": {},
     "output_type": "execute_result"
    }
   ],
   "source": [
    "l.index('e')"
   ]
  },
  {
   "cell_type": "code",
   "execution_count": null,
   "id": "9c48dde8",
   "metadata": {},
   "outputs": [],
   "source": []
  },
  {
   "cell_type": "code",
   "execution_count": null,
   "id": "d946df1f",
   "metadata": {},
   "outputs": [],
   "source": []
  },
  {
   "cell_type": "code",
   "execution_count": null,
   "id": "26fefe56",
   "metadata": {},
   "outputs": [],
   "source": []
  },
  {
   "cell_type": "code",
   "execution_count": null,
   "id": "6281c3f8",
   "metadata": {},
   "outputs": [],
   "source": []
  },
  {
   "cell_type": "code",
   "execution_count": null,
   "id": "6d1bc750",
   "metadata": {},
   "outputs": [],
   "source": []
  },
  {
   "cell_type": "code",
   "execution_count": null,
   "id": "6d29f8d0",
   "metadata": {},
   "outputs": [],
   "source": []
  },
  {
   "cell_type": "code",
   "execution_count": null,
   "id": "9bfd9892",
   "metadata": {},
   "outputs": [],
   "source": []
  },
  {
   "cell_type": "code",
   "execution_count": null,
   "id": "4fbc7ae8",
   "metadata": {},
   "outputs": [],
   "source": []
  },
  {
   "cell_type": "code",
   "execution_count": null,
   "id": "dcb19a4c",
   "metadata": {},
   "outputs": [],
   "source": []
  },
  {
   "cell_type": "code",
   "execution_count": null,
   "id": "85bc1cb2",
   "metadata": {},
   "outputs": [],
   "source": []
  },
  {
   "cell_type": "code",
   "execution_count": null,
   "id": "c071efb9",
   "metadata": {},
   "outputs": [],
   "source": []
  },
  {
   "cell_type": "code",
   "execution_count": null,
   "id": "70308765",
   "metadata": {},
   "outputs": [],
   "source": []
  },
  {
   "cell_type": "code",
   "execution_count": null,
   "id": "bb905e87",
   "metadata": {},
   "outputs": [],
   "source": []
  },
  {
   "cell_type": "code",
   "execution_count": null,
   "id": "b2e2cc10",
   "metadata": {},
   "outputs": [],
   "source": []
  }
 ],
 "metadata": {
  "kernelspec": {
   "display_name": "Python 3 (ipykernel)",
   "language": "python",
   "name": "python3"
  },
  "language_info": {
   "codemirror_mode": {
    "name": "ipython",
    "version": 3
   },
   "file_extension": ".py",
   "mimetype": "text/x-python",
   "name": "python",
   "nbconvert_exporter": "python",
   "pygments_lexer": "ipython3",
   "version": "3.9.13"
  }
 },
 "nbformat": 4,
 "nbformat_minor": 5
}
